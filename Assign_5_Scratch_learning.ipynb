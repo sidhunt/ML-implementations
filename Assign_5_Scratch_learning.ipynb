{
  "nbformat": 4,
  "nbformat_minor": 0,
  "metadata": {
    "colab": {
      "name": "Assign 5 Scratch learning.ipynb",
      "provenance": [],
      "authorship_tag": "ABX9TyPdKiUlApuGALOZ01JFKHla",
      "include_colab_link": true
    },
    "kernelspec": {
      "name": "python3",
      "display_name": "Python 3"
    },
    "accelerator": "GPU"
  },
  "cells": [
    {
      "cell_type": "markdown",
      "metadata": {
        "id": "view-in-github",
        "colab_type": "text"
      },
      "source": [
        "<a href=\"https://colab.research.google.com/github/sidhunt/ML-implementations/blob/main/Assign_5_Scratch_learning.ipynb\" target=\"_parent\"><img src=\"https://colab.research.google.com/assets/colab-badge.svg\" alt=\"Open In Colab\"/></a>"
      ]
    },
    {
      "cell_type": "markdown",
      "metadata": {
        "id": "RlqVAt2_Jb9-"
      },
      "source": [
        "# Learning from Scratch Resnet on CIFAR10 by Siddhant Badola."
      ]
    },
    {
      "cell_type": "code",
      "metadata": {
        "colab": {
          "base_uri": "https://localhost:8080/",
          "height": 334
        },
        "id": "EYIAvchL3CpZ",
        "outputId": "b6deb954-3df8-487e-c44b-6f4a88581ab2"
      },
      "source": [
        "import tensorflow as tf\n",
        "from tensorflow import keras as k\n",
        "from keras.utils import np_utils,to_categorical\n",
        "import matplotlib.pyplot as plt\n",
        "import os\n",
        "import numpy as np\n",
        "from keras.models import Model\n",
        "\n",
        "from keras.preprocessing.image import ImageDataGenerator\n",
        "\n",
        "(x_train,Y_train),(x_test,Y_test)= k.datasets.cifar10.load_data()\n",
        "\n",
        "print(x_train.shape)\n",
        "\n",
        "plt.figure()\n",
        "plt.imshow(x_train[0])\n",
        "plt.colorbar()\n",
        "plt.grid(False)\n",
        "plt.show()\n",
        "\n",
        "print(Y_train[0])\n",
        "\n",
        "print(Y_train.shape)\n",
        "\n",
        "datagen = ImageDataGenerator(\n",
        "    rotation_range=15,\n",
        "    horizontal_flip=True,\n",
        "    width_shift_range=0.1,\n",
        "    height_shift_range=0.1,\n",
        "    )\n",
        "datagen.fit(x_train)\n",
        "\n",
        "x_train = x_train.reshape(x_train.shape[0], 32,32,3)\n",
        "x_test = x_test.reshape(x_test.shape[0], 32,32,3)\n",
        "\n",
        "x_train=x_train.astype(\"float32\")\n",
        "x_test=x_test.astype(\"float32\")\n",
        "\n",
        "y_train=to_categorical(Y_train)\n",
        "y_test=to_categorical(Y_test)\n",
        "x_train/=255.0\n",
        "x_test/=255.0\n",
        "\n",
        "print(y_train.shape)\n",
        "\n",
        "\n",
        "\n",
        "\n",
        "\n",
        "\n",
        "\n",
        "\n"
      ],
      "execution_count": null,
      "outputs": [
        {
          "output_type": "stream",
          "text": [
            "(50000, 32, 32, 3)\n"
          ],
          "name": "stdout"
        },
        {
          "output_type": "display_data",
          "data": {
            "image/png": "[encoded data removed]",
            "text/plain": [
              "<Figure size 432x288 with 2 Axes>"
            ]
          },
          "metadata": {
            "tags": [],
            "needs_background": "light"
          }
        },
        {
          "output_type": "stream",
          "text": [
            "[6]\n",
            "(50000, 1)\n",
            "(50000, 10)\n"
          ],
          "name": "stdout"
        }
      ]
    },
    {
      "cell_type": "code",
      "metadata": {
        "id": "dBlqcxiQ4_iB"
      },
      "source": [
        "mod=k.Sequential()\n",
        "model1=k.applications.ResNet50V2(include_top=False,classes=10,pooling='max',weights=None,input_shape=(32,32,3))\n",
        "mod.add(model1)\n",
        "mod.add(k.layers.Dense(10, activation='sigmoid'))    "
      ],
      "execution_count": null,
      "outputs": []
    },
    {
      "cell_type": "code",
      "metadata": {
        "colab": {
          "base_uri": "https://localhost:8080/"
        },
        "id": "gF_R5b6-5Apt",
        "outputId": "969b1537-5217-4019-d925-19dc8af2c5b4"
      },
      "source": [
        "schedule=k.optimizers.schedules.ExponentialDecay(initial_learning_rate=1e-1,decay_steps=100000,decay_rate=0.96,staircase=True,)  \n",
        "sgd=k.optimizers.SGD(learning_rate=schedule)\n",
        "mod.compile(optimizer=sgd,metrics=['accuracy'],loss=k.losses.CategoricalCrossentropy(from_logits=False,),) \n",
        "\n",
        "mod.summary()\n",
        "print(len(mod.layers))"
      ],
      "execution_count": null,
      "outputs": [
        {
          "output_type": "stream",
          "text": [
            "Model: \"sequential_1\"\n",
            "_________________________________________________________________\n",
            "Layer (type)                 Output Shape              Param #   \n",
            "=================================================================\n",
            "resnet50v2 (Functional)      (None, 2048)              23564800  \n",
            "_________________________________________________________________\n",
            "dense_1 (Dense)              (None, 10)                20490     \n",
            "=================================================================\n",
            "Total params: 23,585,290\n",
            "Trainable params: 23,539,850\n",
            "Non-trainable params: 45,440\n",
            "_________________________________________________________________\n",
            "2\n"
          ],
          "name": "stdout"
        }
      ]
    },
    {
      "cell_type": "code",
      "metadata": {
        "id": "pNABpy3R5AkI",
        "colab": {
          "base_uri": "https://localhost:8080/"
        },
        "outputId": "854d8c99-7e48-4446-dc87-ed5583d7d435"
      },
      "source": [
        "history=mod.fit(datagen.flow(x_train,y_train,batch_size=128), epochs=90,steps_per_epoch=200,validation_data=(x_test,y_test),verbose=1,) \n",
        "loss,acc=mod.evaluate(x_test,y_test,verbose='1')\n",
        "print(\"loss=\",loss,\"\\nacc=\",acc)"
      ],
      "execution_count": null,
      "outputs": [
        {
          "output_type": "stream",
          "text": [
            "Epoch 1/90\n",
            "200/200 [==============================] - 18s 90ms/step - loss: 1.9079 - accuracy: 0.2959 - val_loss: 1.8724 - val_accuracy: 0.3163\n",
            "Epoch 2/90\n",
            "200/200 [==============================] - 17s 87ms/step - loss: 1.5963 - accuracy: 0.4175 - val_loss: 1.5936 - val_accuracy: 0.4218\n",
            "Epoch 3/90\n",
            "200/200 [==============================] - 17s 87ms/step - loss: 1.4598 - accuracy: 0.4681 - val_loss: 1.4363 - val_accuracy: 0.4789\n",
            "Epoch 4/90\n",
            "200/200 [==============================] - 17s 87ms/step - loss: 1.3739 - accuracy: 0.5017 - val_loss: 1.7292 - val_accuracy: 0.4119\n",
            "Epoch 5/90\n",
            "200/200 [==============================] - 17s 87ms/step - loss: 1.3126 - accuracy: 0.5263 - val_loss: 1.4115 - val_accuracy: 0.5043\n",
            "Epoch 6/90\n",
            "200/200 [==============================] - 17s 87ms/step - loss: 1.2591 - accuracy: 0.5472 - val_loss: 1.3807 - val_accuracy: 0.5273\n",
            "Epoch 7/90\n",
            "200/200 [==============================] - 17s 87ms/step - loss: 1.2123 - accuracy: 0.5664 - val_loss: 1.4039 - val_accuracy: 0.4976\n",
            "Epoch 8/90\n",
            "200/200 [==============================] - 17s 86ms/step - loss: 1.1673 - accuracy: 0.5881 - val_loss: 1.2644 - val_accuracy: 0.5451\n",
            "Epoch 9/90\n",
            "200/200 [==============================] - 17s 87ms/step - loss: 1.1467 - accuracy: 0.5892 - val_loss: 1.5626 - val_accuracy: 0.4770\n",
            "Epoch 10/90\n",
            "200/200 [==============================] - 17s 86ms/step - loss: 1.0987 - accuracy: 0.6073 - val_loss: 1.1855 - val_accuracy: 0.5820\n",
            "Epoch 11/90\n",
            "200/200 [==============================] - 17s 86ms/step - loss: 1.0571 - accuracy: 0.6218 - val_loss: 1.3647 - val_accuracy: 0.5373\n",
            "Epoch 12/90\n",
            "200/200 [==============================] - 17s 85ms/step - loss: 1.0455 - accuracy: 0.6308 - val_loss: 1.3634 - val_accuracy: 0.5272\n",
            "Epoch 13/90\n",
            "200/200 [==============================] - 17s 85ms/step - loss: 1.0217 - accuracy: 0.6346 - val_loss: 1.3867 - val_accuracy: 0.5334\n",
            "Epoch 14/90\n",
            "200/200 [==============================] - 17s 86ms/step - loss: 0.9747 - accuracy: 0.6533 - val_loss: 1.0564 - val_accuracy: 0.6241\n",
            "Epoch 15/90\n",
            "200/200 [==============================] - 17s 86ms/step - loss: 0.9826 - accuracy: 0.6482 - val_loss: 0.9496 - val_accuracy: 0.6656\n",
            "Epoch 16/90\n",
            "200/200 [==============================] - 17s 86ms/step - loss: 0.9299 - accuracy: 0.6705 - val_loss: 1.0722 - val_accuracy: 0.6350\n",
            "Epoch 17/90\n",
            "200/200 [==============================] - 17s 86ms/step - loss: 0.9108 - accuracy: 0.6740 - val_loss: 1.2358 - val_accuracy: 0.5671\n",
            "Epoch 18/90\n",
            "200/200 [==============================] - 17s 85ms/step - loss: 0.9068 - accuracy: 0.6746 - val_loss: 0.9984 - val_accuracy: 0.6509\n",
            "Epoch 19/90\n",
            "200/200 [==============================] - 17s 85ms/step - loss: 0.8835 - accuracy: 0.6817 - val_loss: 1.2542 - val_accuracy: 0.5729\n",
            "Epoch 20/90\n",
            "200/200 [==============================] - 17s 85ms/step - loss: 0.8614 - accuracy: 0.6950 - val_loss: 0.8984 - val_accuracy: 0.6920\n",
            "Epoch 21/90\n",
            "200/200 [==============================] - 17s 85ms/step - loss: 0.8481 - accuracy: 0.7036 - val_loss: 1.1742 - val_accuracy: 0.6128\n",
            "Epoch 22/90\n",
            "200/200 [==============================] - 17s 86ms/step - loss: 0.8471 - accuracy: 0.6998 - val_loss: 0.8890 - val_accuracy: 0.6900\n",
            "Epoch 23/90\n",
            "200/200 [==============================] - 17s 86ms/step - loss: 0.8186 - accuracy: 0.7106 - val_loss: 1.0239 - val_accuracy: 0.6542\n",
            "Epoch 24/90\n",
            "200/200 [==============================] - 17s 86ms/step - loss: 0.8085 - accuracy: 0.7096 - val_loss: 1.1997 - val_accuracy: 0.5933\n",
            "Epoch 25/90\n",
            "200/200 [==============================] - 17s 85ms/step - loss: 0.7964 - accuracy: 0.7157 - val_loss: 0.9925 - val_accuracy: 0.6644\n",
            "Epoch 26/90\n",
            "200/200 [==============================] - 17s 85ms/step - loss: 0.8196 - accuracy: 0.7058 - val_loss: 0.9969 - val_accuracy: 0.6601\n",
            "Epoch 27/90\n",
            "200/200 [==============================] - 17s 86ms/step - loss: 0.8114 - accuracy: 0.7139 - val_loss: 1.3832 - val_accuracy: 0.5425\n",
            "Epoch 28/90\n",
            "200/200 [==============================] - 17s 85ms/step - loss: 0.7697 - accuracy: 0.7249 - val_loss: 1.0068 - val_accuracy: 0.6466\n",
            "Epoch 29/90\n",
            "200/200 [==============================] - 17s 85ms/step - loss: 0.7778 - accuracy: 0.7230 - val_loss: 1.0003 - val_accuracy: 0.6490\n",
            "Epoch 30/90\n",
            "200/200 [==============================] - 17s 85ms/step - loss: 0.7667 - accuracy: 0.7257 - val_loss: 1.1283 - val_accuracy: 0.6202\n",
            "Epoch 31/90\n",
            "200/200 [==============================] - 17s 85ms/step - loss: 0.7598 - accuracy: 0.7307 - val_loss: 0.8901 - val_accuracy: 0.7005\n",
            "Epoch 32/90\n",
            "200/200 [==============================] - 17s 85ms/step - loss: 0.7217 - accuracy: 0.7457 - val_loss: 0.9405 - val_accuracy: 0.6899\n",
            "Epoch 33/90\n",
            "200/200 [==============================] - 17s 85ms/step - loss: 0.7154 - accuracy: 0.7493 - val_loss: 0.8264 - val_accuracy: 0.7191\n",
            "Epoch 34/90\n",
            "200/200 [==============================] - 17s 85ms/step - loss: 0.6885 - accuracy: 0.7591 - val_loss: 1.2793 - val_accuracy: 0.5750\n",
            "Epoch 35/90\n",
            "200/200 [==============================] - 17s 85ms/step - loss: 0.6839 - accuracy: 0.7583 - val_loss: 1.0489 - val_accuracy: 0.6721\n",
            "Epoch 36/90\n",
            "200/200 [==============================] - 17s 85ms/step - loss: 0.6950 - accuracy: 0.7537 - val_loss: 0.8235 - val_accuracy: 0.7150\n",
            "Epoch 37/90\n",
            "200/200 [==============================] - 17s 85ms/step - loss: 0.6992 - accuracy: 0.7544 - val_loss: 1.0500 - val_accuracy: 0.6621\n",
            "Epoch 38/90\n",
            "200/200 [==============================] - 17s 85ms/step - loss: 0.7060 - accuracy: 0.7513 - val_loss: 0.7851 - val_accuracy: 0.7317\n",
            "Epoch 39/90\n",
            "200/200 [==============================] - 17s 85ms/step - loss: 0.7090 - accuracy: 0.7463 - val_loss: 1.2534 - val_accuracy: 0.6156\n",
            "Epoch 40/90\n",
            "200/200 [==============================] - 17s 85ms/step - loss: 0.6797 - accuracy: 0.7593 - val_loss: 0.8148 - val_accuracy: 0.7269\n",
            "Epoch 41/90\n",
            "200/200 [==============================] - 17s 85ms/step - loss: 0.6544 - accuracy: 0.7648 - val_loss: 0.9012 - val_accuracy: 0.7024\n",
            "Epoch 42/90\n",
            "200/200 [==============================] - 17s 85ms/step - loss: 0.6549 - accuracy: 0.7646 - val_loss: 0.7109 - val_accuracy: 0.7581\n",
            "Epoch 43/90\n",
            "200/200 [==============================] - 17s 85ms/step - loss: 0.6545 - accuracy: 0.7660 - val_loss: 0.9478 - val_accuracy: 0.6860\n",
            "Epoch 44/90\n",
            "200/200 [==============================] - 17s 85ms/step - loss: 0.6266 - accuracy: 0.7797 - val_loss: 0.7242 - val_accuracy: 0.7538\n",
            "Epoch 45/90\n",
            "200/200 [==============================] - 17s 87ms/step - loss: 0.6070 - accuracy: 0.7806 - val_loss: 1.0702 - val_accuracy: 0.6743\n",
            "Epoch 46/90\n",
            "200/200 [==============================] - 17s 86ms/step - loss: 0.6920 - accuracy: 0.7573 - val_loss: 0.7989 - val_accuracy: 0.7344\n",
            "Epoch 47/90\n",
            "200/200 [==============================] - 17s 86ms/step - loss: 0.6362 - accuracy: 0.7723 - val_loss: 0.8479 - val_accuracy: 0.7122\n",
            "Epoch 48/90\n",
            "200/200 [==============================] - 17s 86ms/step - loss: 0.6059 - accuracy: 0.7859 - val_loss: 0.8111 - val_accuracy: 0.7407\n",
            "Epoch 49/90\n",
            "200/200 [==============================] - 17s 86ms/step - loss: 0.6268 - accuracy: 0.7763 - val_loss: 0.9764 - val_accuracy: 0.6851\n",
            "Epoch 50/90\n",
            "200/200 [==============================] - 17s 86ms/step - loss: 0.6416 - accuracy: 0.7703 - val_loss: 0.9152 - val_accuracy: 0.6973\n",
            "Epoch 51/90\n",
            "200/200 [==============================] - 17s 86ms/step - loss: 0.6076 - accuracy: 0.7843 - val_loss: 0.8676 - val_accuracy: 0.7173\n",
            "Epoch 52/90\n",
            "200/200 [==============================] - 17s 86ms/step - loss: 0.6273 - accuracy: 0.7792 - val_loss: 0.7121 - val_accuracy: 0.7615\n",
            "Epoch 53/90\n",
            "200/200 [==============================] - 17s 86ms/step - loss: 0.6458 - accuracy: 0.7705 - val_loss: 1.1827 - val_accuracy: 0.6195\n",
            "Epoch 54/90\n",
            "200/200 [==============================] - 17s 85ms/step - loss: 0.5942 - accuracy: 0.7871 - val_loss: 1.0077 - val_accuracy: 0.6778\n",
            "Epoch 55/90\n",
            "200/200 [==============================] - 17s 86ms/step - loss: 0.5968 - accuracy: 0.7891 - val_loss: 0.7314 - val_accuracy: 0.7576\n",
            "Epoch 56/90\n",
            "200/200 [==============================] - 17s 86ms/step - loss: 0.5888 - accuracy: 0.7873 - val_loss: 0.8210 - val_accuracy: 0.7234\n",
            "Epoch 57/90\n",
            "200/200 [==============================] - 17s 86ms/step - loss: 0.5642 - accuracy: 0.7979 - val_loss: 0.9527 - val_accuracy: 0.6880\n",
            "Epoch 58/90\n",
            "200/200 [==============================] - 17s 86ms/step - loss: 0.5947 - accuracy: 0.7877 - val_loss: 0.7637 - val_accuracy: 0.7496\n",
            "Epoch 59/90\n",
            "200/200 [==============================] - 17s 86ms/step - loss: 0.5661 - accuracy: 0.7973 - val_loss: 0.7157 - val_accuracy: 0.7578\n",
            "Epoch 60/90\n",
            "200/200 [==============================] - 17s 86ms/step - loss: 0.5913 - accuracy: 0.7910 - val_loss: 0.9267 - val_accuracy: 0.6955\n",
            "Epoch 61/90\n",
            "200/200 [==============================] - 17s 86ms/step - loss: 0.5728 - accuracy: 0.7934 - val_loss: 0.7382 - val_accuracy: 0.7585\n",
            "Epoch 62/90\n",
            "200/200 [==============================] - 17s 85ms/step - loss: 0.5374 - accuracy: 0.8107 - val_loss: 1.2146 - val_accuracy: 0.6199\n",
            "Epoch 63/90\n",
            "200/200 [==============================] - 19s 93ms/step - loss: 0.5631 - accuracy: 0.8016 - val_loss: 0.7429 - val_accuracy: 0.7533\n",
            "Epoch 64/90\n",
            "200/200 [==============================] - 17s 85ms/step - loss: 0.5477 - accuracy: 0.8078 - val_loss: 0.8435 - val_accuracy: 0.7293\n",
            "Epoch 65/90\n",
            "200/200 [==============================] - 17s 86ms/step - loss: 0.5353 - accuracy: 0.8111 - val_loss: 0.7895 - val_accuracy: 0.7420\n",
            "Epoch 66/90\n",
            "200/200 [==============================] - 17s 85ms/step - loss: 0.5178 - accuracy: 0.8150 - val_loss: 0.8004 - val_accuracy: 0.7512\n",
            "Epoch 67/90\n",
            "200/200 [==============================] - 17s 85ms/step - loss: 0.5034 - accuracy: 0.8221 - val_loss: 0.9352 - val_accuracy: 0.7164\n",
            "Epoch 68/90\n",
            "200/200 [==============================] - 17s 85ms/step - loss: 0.4994 - accuracy: 0.8205 - val_loss: 0.8417 - val_accuracy: 0.7374\n",
            "Epoch 69/90\n",
            "200/200 [==============================] - 17s 85ms/step - loss: 0.4973 - accuracy: 0.8221 - val_loss: 0.6888 - val_accuracy: 0.7695\n",
            "Epoch 70/90\n",
            "200/200 [==============================] - 17s 85ms/step - loss: 0.5199 - accuracy: 0.8111 - val_loss: 0.7785 - val_accuracy: 0.7452\n",
            "Epoch 71/90\n",
            "200/200 [==============================] - 17s 85ms/step - loss: 0.5451 - accuracy: 0.8064 - val_loss: 0.7555 - val_accuracy: 0.7561\n",
            "Epoch 72/90\n",
            "200/200 [==============================] - 17s 85ms/step - loss: 0.4871 - accuracy: 0.8283 - val_loss: 0.6776 - val_accuracy: 0.7760\n",
            "Epoch 73/90\n",
            "200/200 [==============================] - 17s 85ms/step - loss: 0.5031 - accuracy: 0.8195 - val_loss: 0.8277 - val_accuracy: 0.7203\n",
            "Epoch 74/90\n",
            "200/200 [==============================] - 17s 85ms/step - loss: 0.4767 - accuracy: 0.8285 - val_loss: 0.8118 - val_accuracy: 0.7385\n",
            "Epoch 75/90\n",
            "200/200 [==============================] - 17s 85ms/step - loss: 0.4698 - accuracy: 0.8305 - val_loss: 0.8741 - val_accuracy: 0.7409\n",
            "Epoch 76/90\n",
            "200/200 [==============================] - 17s 85ms/step - loss: 0.4901 - accuracy: 0.8262 - val_loss: 0.8047 - val_accuracy: 0.7440\n",
            "Epoch 77/90\n",
            "200/200 [==============================] - 17s 85ms/step - loss: 0.4732 - accuracy: 0.8304 - val_loss: 0.8544 - val_accuracy: 0.7265\n",
            "Epoch 78/90\n",
            "200/200 [==============================] - 17s 85ms/step - loss: 0.4527 - accuracy: 0.8379 - val_loss: 0.9455 - val_accuracy: 0.7175\n",
            "Epoch 79/90\n",
            "200/200 [==============================] - 17s 86ms/step - loss: 0.4646 - accuracy: 0.8334 - val_loss: 1.0718 - val_accuracy: 0.6597\n",
            "Epoch 80/90\n",
            "200/200 [==============================] - 17s 86ms/step - loss: 0.4467 - accuracy: 0.8419 - val_loss: 0.6850 - val_accuracy: 0.7769\n",
            "Epoch 81/90\n",
            "200/200 [==============================] - 17s 86ms/step - loss: 0.5044 - accuracy: 0.8213 - val_loss: 0.9177 - val_accuracy: 0.7150\n",
            "Epoch 82/90\n",
            "200/200 [==============================] - 17s 86ms/step - loss: 0.4473 - accuracy: 0.8421 - val_loss: 0.9396 - val_accuracy: 0.7203\n",
            "Epoch 83/90\n",
            "200/200 [==============================] - 17s 85ms/step - loss: 0.4283 - accuracy: 0.8468 - val_loss: 0.7713 - val_accuracy: 0.7603\n",
            "Epoch 84/90\n",
            "200/200 [==============================] - 17s 85ms/step - loss: 0.4330 - accuracy: 0.8428 - val_loss: 0.7672 - val_accuracy: 0.7597\n",
            "Epoch 85/90\n",
            "200/200 [==============================] - 17s 85ms/step - loss: 0.4275 - accuracy: 0.8455 - val_loss: 0.7325 - val_accuracy: 0.7696\n",
            "Epoch 86/90\n",
            "200/200 [==============================] - 17s 85ms/step - loss: 0.4322 - accuracy: 0.8474 - val_loss: 0.7321 - val_accuracy: 0.7751\n",
            "Epoch 87/90\n",
            "200/200 [==============================] - 17s 85ms/step - loss: 0.4631 - accuracy: 0.8348 - val_loss: 0.7956 - val_accuracy: 0.7555\n",
            "Epoch 88/90\n",
            "200/200 [==============================] - 17s 86ms/step - loss: 0.4187 - accuracy: 0.8527 - val_loss: 0.7085 - val_accuracy: 0.7803\n",
            "Epoch 89/90\n",
            "200/200 [==============================] - 17s 85ms/step - loss: 0.4511 - accuracy: 0.8375 - val_loss: 0.7402 - val_accuracy: 0.7728\n",
            "Epoch 90/90\n",
            "200/200 [==============================] - 17s 85ms/step - loss: 0.4134 - accuracy: 0.8501 - val_loss: 0.7991 - val_accuracy: 0.7594\n",
            "loss= 0.7990668416023254 \n",
            "acc= 0.7594000101089478\n"
          ],
          "name": "stdout"
        }
      ]
    },
    {
      "cell_type": "code",
      "metadata": {
        "id": "zJ9tgx1Y5iTn",
        "colab": {
          "base_uri": "https://localhost:8080/",
          "height": 295
        },
        "outputId": "2f95cf61-0a46-45aa-b9fd-d65c58dae3a9"
      },
      "source": [
        "plt.plot(history.history['accuracy'])\n",
        "plt.plot(history.history['val_accuracy'])\n",
        "plt.title('model accuracy')\n",
        "plt.ylabel('accuracy')\n",
        "plt.xlabel('epoch')\n",
        "plt.legend(['train', 'test'], loc='upper left')\n",
        "plt.show()"
      ],
      "execution_count": null,
      "outputs": [
        {
          "output_type": "display_data",
          "data": {
            "image/png": "[encoded data removed]",
            "text/plain": [
              "<Figure size 432x288 with 1 Axes>"
            ]
          },
          "metadata": {
            "tags": [],
            "needs_background": "light"
          }
        }
      ]
    },
    {
      "cell_type": "code",
      "metadata": {
        "colab": {
          "base_uri": "https://localhost:8080/"
        },
        "id": "XyfNqULyyOmQ",
        "outputId": "0997f3b6-88fa-4c3f-85a2-417a76bf4a24"
      },
      "source": [
        "history=mod.fit(datagen.flow(x_train,y_train,batch_size=128), epochs=10,steps_per_epoch=200,validation_data=(x_test,y_test),verbose=1,)\n",
        "loss,acc=mod.evaluate(x_test,y_test,verbose='1')\n",
        "print(\"loss=\",loss,\"\\nacc=\",acc)"
      ],
      "execution_count": null,
      "outputs": [
        {
          "output_type": "stream",
          "text": [
            "Epoch 1/10\n",
            "200/200 [==============================] - 18s 88ms/step - loss: 0.4110 - accuracy: 0.8519 - val_loss: 0.9411 - val_accuracy: 0.7322\n",
            "Epoch 2/10\n",
            "200/200 [==============================] - 18s 88ms/step - loss: 0.4209 - accuracy: 0.8484 - val_loss: 0.7348 - val_accuracy: 0.7746\n",
            "Epoch 3/10\n",
            "200/200 [==============================] - 17s 87ms/step - loss: 0.3933 - accuracy: 0.8567 - val_loss: 0.7523 - val_accuracy: 0.7722\n",
            "Epoch 4/10\n",
            "200/200 [==============================] - 17s 87ms/step - loss: 0.4067 - accuracy: 0.8533 - val_loss: 0.7188 - val_accuracy: 0.7764\n",
            "Epoch 5/10\n",
            "200/200 [==============================] - 17s 87ms/step - loss: 0.4172 - accuracy: 0.8521 - val_loss: 0.8287 - val_accuracy: 0.7478\n",
            "Epoch 6/10\n",
            "200/200 [==============================] - 17s 87ms/step - loss: 0.4152 - accuracy: 0.8523 - val_loss: 0.7734 - val_accuracy: 0.7628\n",
            "Epoch 7/10\n",
            "200/200 [==============================] - 17s 87ms/step - loss: 0.4768 - accuracy: 0.8312 - val_loss: 0.8214 - val_accuracy: 0.7585\n",
            "Epoch 8/10\n",
            "200/200 [==============================] - 17s 86ms/step - loss: 0.4189 - accuracy: 0.8509 - val_loss: 0.7076 - val_accuracy: 0.7767\n",
            "Epoch 9/10\n",
            "200/200 [==============================] - 17s 86ms/step - loss: 0.4132 - accuracy: 0.8502 - val_loss: 0.7918 - val_accuracy: 0.7490\n",
            "Epoch 10/10\n",
            "200/200 [==============================] - 17s 86ms/step - loss: 0.4121 - accuracy: 0.8506 - val_loss: 0.7005 - val_accuracy: 0.7718\n",
            "loss= 0.7005168199539185 \n",
            "acc= 0.7717999815940857\n"
          ],
          "name": "stdout"
        }
      ]
    }
  ]
}