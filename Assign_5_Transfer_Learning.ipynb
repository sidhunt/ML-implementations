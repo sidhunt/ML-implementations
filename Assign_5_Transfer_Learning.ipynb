{
  "nbformat": 4,
  "nbformat_minor": 0,
  "metadata": {
    "accelerator": "GPU",
    "colab": {
      "name": "Assign 5 Transfer Learning.ipynb",
      "provenance": [],
      "collapsed_sections": [],
      "authorship_tag": "ABX9TyNMSyNwWOuE4TH9RZ1aD9zm",
      "include_colab_link": true
    },
    "kernelspec": {
      "display_name": "Python 3",
      "name": "python3"
    }
  },
  "cells": [
    {
      "cell_type": "markdown",
      "metadata": {
        "id": "view-in-github",
        "colab_type": "text"
      },
      "source": [
        "<a href=\"https://colab.research.google.com/github/sidhunt/ML-implementations/blob/main/Assign_5_Transfer_Learning.ipynb\" target=\"_parent\"><img src=\"https://colab.research.google.com/assets/colab-badge.svg\" alt=\"Open In Colab\"/></a>"
      ]
    },
    {
      "cell_type": "markdown",
      "metadata": {
        "id": "85_Ua_C6JQDt"
      },
      "source": [
        "# Transfer Learning Resnet on CIFAR10 by Siddhant Badola."
      ]
    },
    {
      "cell_type": "code",
      "metadata": {
        "id": "cS6XYpP1B89I"
      },
      "source": [
        "import tensorflow as tf\n",
        "from tensorflow import keras as k\n",
        "from keras.utils import np_utils,to_categorical\n",
        "import matplotlib.pyplot as plt\n",
        "import os\n",
        "import numpy as np\n",
        "from keras.models import Model"
      ],
      "execution_count": null,
      "outputs": []
    },
    {
      "cell_type": "code",
      "metadata": {
        "id": "zKLqxu1pupLT"
      },
      "source": [
        "from keras.preprocessing.image import ImageDataGenerator"
      ],
      "execution_count": null,
      "outputs": []
    },
    {
      "cell_type": "code",
      "metadata": {
        "id": "QBzBHlLoCYDs"
      },
      "source": [
        "(x_train,Y_train),(x_test,Y_test)= k.datasets.cifar10.load_data()"
      ],
      "execution_count": null,
      "outputs": []
    },
    {
      "cell_type": "code",
      "metadata": {
        "colab": {
          "base_uri": "https://localhost:8080/"
        },
        "id": "0Zb0Xq6dDM2s",
        "outputId": "45a6ccc2-115d-43b7-f0e5-6dc5b06fb8aa"
      },
      "source": [
        "print(x_train.shape)"
      ],
      "execution_count": null,
      "outputs": [
        {
          "output_type": "stream",
          "text": [
            "(50000, 32, 32, 3)\n"
          ],
          "name": "stdout"
        }
      ]
    },
    {
      "cell_type": "code",
      "metadata": {
        "colab": {
          "base_uri": "https://localhost:8080/",
          "height": 266
        },
        "id": "ivyx3r2YDVzF",
        "outputId": "1b012e84-bf8a-44a6-b2f4-7cabbc8875b1"
      },
      "source": [
        "plt.figure()\n",
        "plt.imshow(x_train[0])\n",
        "plt.colorbar()\n",
        "plt.grid(False)\n",
        "plt.show()"
      ],
      "execution_count": null,
      "outputs": [
        {
          "output_type": "display_data",
          "data": {
            "image/png": "[encoded data removed]",
            "text/plain": [
              "<Figure size 432x288 with 2 Axes>"
            ]
          },
          "metadata": {
            "tags": [],
            "needs_background": "light"
          }
        }
      ]
    },
    {
      "cell_type": "code",
      "metadata": {
        "id": "Q4vTgAqYGyke",
        "colab": {
          "base_uri": "https://localhost:8080/"
        },
        "outputId": "f3c3dcd5-5c11-4039-e2f4-03dda4bbda8e"
      },
      "source": [
        "print(Y_train[0])"
      ],
      "execution_count": null,
      "outputs": [
        {
          "output_type": "stream",
          "text": [
            "[6]\n"
          ],
          "name": "stdout"
        }
      ]
    },
    {
      "cell_type": "code",
      "metadata": {
        "colab": {
          "base_uri": "https://localhost:8080/"
        },
        "id": "mVm_pfS7GVui",
        "outputId": "935fbfa6-ba50-4ac8-bef5-a3d2d2dafd63"
      },
      "source": [
        "print(Y_train.shape)"
      ],
      "execution_count": null,
      "outputs": [
        {
          "output_type": "stream",
          "text": [
            "(50000, 1)\n"
          ],
          "name": "stdout"
        }
      ]
    },
    {
      "cell_type": "code",
      "metadata": {
        "id": "7GVkMLqUurSh"
      },
      "source": [
        "datagen = ImageDataGenerator(\n",
        "    rotation_range=15,\n",
        "    horizontal_flip=True,\n",
        "    width_shift_range=0.1,\n",
        "    height_shift_range=0.1,\n",
        "    rescale=1,  \n",
        "    #zoom_range=0.3,\n",
        "    )\n",
        "datagen.fit(x_train)"
      ],
      "execution_count": null,
      "outputs": []
    },
    {
      "cell_type": "code",
      "metadata": {
        "id": "hM5pXwO3YIRe"
      },
      "source": [
        "x_train = x_train.reshape(x_train.shape[0], 32,32,3)\n",
        "x_test = x_test.reshape(x_test.shape[0], 32,32,3)"
      ],
      "execution_count": null,
      "outputs": []
    },
    {
      "cell_type": "code",
      "metadata": {
        "id": "iP_dWkG5Gocg"
      },
      "source": [
        "# x_train=x_train/255.0\n",
        "# x_test=x_test/255.0\n",
        "x_train=x_train.astype(\"float32\")\n",
        "x_test=x_test.astype(\"float32\")\n",
        "\n",
        "y_train=to_categorical(Y_train)\n",
        "y_test=to_categorical(Y_test)\n",
        "# mean=np.mean(x_train,axis=0)\n",
        "# x_train-=mean\n",
        "# x_test-=mean\n",
        "x_train/=255.0\n",
        "x_test/=255.0"
      ],
      "execution_count": null,
      "outputs": []
    },
    {
      "cell_type": "code",
      "metadata": {
        "colab": {
          "base_uri": "https://localhost:8080/"
        },
        "id": "ydAZyaokUIiP",
        "outputId": "9a4d2386-4254-4810-f5f6-af07bd15f4fa"
      },
      "source": [
        "print(y_train.shape)"
      ],
      "execution_count": null,
      "outputs": [
        {
          "output_type": "stream",
          "text": [
            "(50000, 10)\n"
          ],
          "name": "stdout"
        }
      ]
    },
    {
      "cell_type": "code",
      "metadata": {
        "id": "5NtON-Zzsb2n"
      },
      "source": [
        "def scheduler(epoch,lr):\n",
        "  if epoch<5:\n",
        "    return 0.01\n",
        "  elif epoch<10:\n",
        "    return 0.001\n",
        "  elif epoch<15:\n",
        "    return lr*0.0001\n",
        "  elif epoch<20:\n",
        "    return lr*0.00001"
      ],
      "execution_count": null,
      "outputs": []
    },
    {
      "cell_type": "code",
      "metadata": {
        "id": "tvxbF0_azomF"
      },
      "source": [
        "mod=k.Sequential()\n",
        "model1=k.applications.ResNet50(include_top=False,classes=10,pooling='max',weights=\"imagenet\",input_shape=(32,32,3))\n",
        "mod.add(model1)\n",
        "mod.add(k.layers.Dense(10, activation='softmax'))\n",
        "\n",
        "schedule=k.optimizers.schedules.ExponentialDecay(initial_learning_rate=1e-2,decay_steps=100000,decay_rate=0.95,staircase=True,)   \n",
        "sgd=k.optimizers.SGD(learning_rate=schedule)\n",
        "mod.compile(optimizer=sgd,metrics=['accuracy'],loss=k.losses.CategoricalCrossentropy(from_logits=False,))      "
      ],
      "execution_count": null,
      "outputs": []
    },
    {
      "cell_type": "code",
      "metadata": {
        "id": "y8bhTMPoWW_a",
        "colab": {
          "base_uri": "https://localhost:8080/"
        },
        "outputId": "75887b10-6d6c-4483-acc1-29fb64ebbf40"
      },
      "source": [
        "mod.summary()\n",
        "print(len(mod.layers))"
      ],
      "execution_count": null,
      "outputs": [
        {
          "output_type": "stream",
          "text": [
            "Model: \"sequential_1\"\n",
            "_________________________________________________________________\n",
            "Layer (type)                 Output Shape              Param #   \n",
            "=================================================================\n",
            "resnet50 (Functional)        (None, 2048)              23587712  \n",
            "_________________________________________________________________\n",
            "dense_1 (Dense)              (None, 10)                20490     \n",
            "=================================================================\n",
            "Total params: 23,608,202\n",
            "Trainable params: 23,555,082\n",
            "Non-trainable params: 53,120\n",
            "_________________________________________________________________\n",
            "2\n"
          ],
          "name": "stdout"
        }
      ]
    },
    {
      "cell_type": "code",
      "metadata": {
        "id": "nsOBlP49SsgP",
        "colab": {
          "base_uri": "https://localhost:8080/"
        },
        "outputId": "3e78ea39-0d3f-4658-93f4-ff1ba1fa1fa2"
      },
      "source": [
        "history=mod.fit(x_train,y_train, epochs=15,steps_per_epoch=200,validation_data=(x_test,y_test),verbose=1,batch_size=128,use_multiprocessing=True,) \n",
        "loss,acc=mod.evaluate(x_test,y_test,verbose='1')\n",
        "print(\"loss=\",loss,\"\\nacc=\",acc)"
      ],
      "execution_count": null,
      "outputs": [
        {
          "output_type": "stream",
          "text": [
            "Epoch 1/15\n",
            "200/200 [==============================] - 11s 57ms/step - loss: 1.6130 - accuracy: 0.4835 - val_loss: 3.4237 - val_accuracy: 0.1086\n",
            "Epoch 2/15\n",
            "200/200 [==============================] - 11s 53ms/step - loss: 1.0010 - accuracy: 0.6592 - val_loss: 3.9730 - val_accuracy: 0.1160\n",
            "Epoch 3/15\n",
            "200/200 [==============================] - 11s 53ms/step - loss: 0.7094 - accuracy: 0.7565 - val_loss: 3.6137 - val_accuracy: 0.1469\n",
            "Epoch 4/15\n",
            "200/200 [==============================] - 11s 53ms/step - loss: 0.6556 - accuracy: 0.7756 - val_loss: 2.3572 - val_accuracy: 0.3345\n",
            "Epoch 5/15\n",
            "200/200 [==============================] - 11s 53ms/step - loss: 0.4556 - accuracy: 0.8436 - val_loss: 1.0684 - val_accuracy: 0.6568\n",
            "Epoch 6/15\n",
            "200/200 [==============================] - 11s 53ms/step - loss: 0.4491 - accuracy: 0.8463 - val_loss: 0.8137 - val_accuracy: 0.7335\n",
            "Epoch 7/15\n",
            "200/200 [==============================] - 11s 53ms/step - loss: 0.2959 - accuracy: 0.9025 - val_loss: 0.7936 - val_accuracy: 0.7507\n",
            "Epoch 8/15\n",
            "200/200 [==============================] - 11s 53ms/step - loss: 0.2918 - accuracy: 0.9008 - val_loss: 0.8279 - val_accuracy: 0.7479\n",
            "Epoch 9/15\n",
            "200/200 [==============================] - 11s 53ms/step - loss: 0.1884 - accuracy: 0.9401 - val_loss: 0.8433 - val_accuracy: 0.7550\n",
            "Epoch 10/15\n",
            "200/200 [==============================] - 11s 53ms/step - loss: 0.1909 - accuracy: 0.9390 - val_loss: 0.8504 - val_accuracy: 0.7591\n",
            "Epoch 11/15\n",
            "200/200 [==============================] - 11s 53ms/step - loss: 0.1223 - accuracy: 0.9632 - val_loss: 0.8901 - val_accuracy: 0.7582\n",
            "Epoch 12/15\n",
            "200/200 [==============================] - 11s 53ms/step - loss: 0.1208 - accuracy: 0.9634 - val_loss: 0.9218 - val_accuracy: 0.7566\n",
            "Epoch 13/15\n",
            "200/200 [==============================] - 11s 53ms/step - loss: 0.0893 - accuracy: 0.9736 - val_loss: 0.9548 - val_accuracy: 0.7520\n",
            "Epoch 14/15\n",
            "200/200 [==============================] - 10s 52ms/step - loss: 0.0869 - accuracy: 0.9746 - val_loss: 0.9493 - val_accuracy: 0.7601\n",
            "Epoch 15/15\n",
            "200/200 [==============================] - 10s 52ms/step - loss: 0.0675 - accuracy: 0.9815 - val_loss: 1.0260 - val_accuracy: 0.7536\n",
            "loss= 1.0260403156280518 \n",
            "acc= 0.753600001335144\n"
          ],
          "name": "stdout"
        }
      ]
    },
    {
      "cell_type": "code",
      "metadata": {
        "colab": {
          "base_uri": "https://localhost:8080/"
        },
        "id": "YXT1Iw1-vR9t",
        "outputId": "47a79ee1-f2a2-49d6-ad0e-b0d310e3430d"
      },
      "source": [
        "history=mod.fit_generator(datagen.flow(x_train,y_train,batch_size=64), epochs=90,steps_per_epoch=200,validation_data=(x_test,y_test),verbose=1,) \n",
        "loss,acc=mod.evaluate(x_test,y_test,verbose='1')\n",
        "print(\"loss=\",loss,\"\\nacc=\",acc)"
      ],
      "execution_count": null,
      "outputs": [
        {
          "output_type": "stream",
          "text": [
            "Epoch 1/90\n",
            "200/200 [==============================] - 12s 59ms/step - loss: 0.8517 - accuracy: 0.7198 - val_loss: 1.0564 - val_accuracy: 0.6930\n",
            "Epoch 2/90\n",
            "200/200 [==============================] - 12s 59ms/step - loss: 0.7823 - accuracy: 0.7387 - val_loss: 0.9964 - val_accuracy: 0.7081\n",
            "Epoch 3/90\n",
            "200/200 [==============================] - 12s 59ms/step - loss: 0.7513 - accuracy: 0.7452 - val_loss: 0.9264 - val_accuracy: 0.7114\n",
            "Epoch 4/90\n",
            "200/200 [==============================] - 12s 59ms/step - loss: 0.7178 - accuracy: 0.7566 - val_loss: 0.9029 - val_accuracy: 0.7026\n",
            "Epoch 5/90\n",
            "200/200 [==============================] - 12s 58ms/step - loss: 0.6863 - accuracy: 0.7636 - val_loss: 0.9836 - val_accuracy: 0.7101\n",
            "Epoch 6/90\n",
            "200/200 [==============================] - 12s 59ms/step - loss: 0.6474 - accuracy: 0.7755 - val_loss: 0.7336 - val_accuracy: 0.7694\n",
            "Epoch 7/90\n",
            "200/200 [==============================] - 12s 59ms/step - loss: 0.6139 - accuracy: 0.7937 - val_loss: 0.7111 - val_accuracy: 0.7677\n",
            "Epoch 8/90\n",
            "200/200 [==============================] - 12s 59ms/step - loss: 0.6065 - accuracy: 0.7945 - val_loss: 0.7579 - val_accuracy: 0.7628\n",
            "Epoch 9/90\n",
            "200/200 [==============================] - 12s 59ms/step - loss: 0.5866 - accuracy: 0.7974 - val_loss: 0.6897 - val_accuracy: 0.7671\n",
            "Epoch 10/90\n",
            "200/200 [==============================] - 12s 59ms/step - loss: 0.5617 - accuracy: 0.8056 - val_loss: 0.6338 - val_accuracy: 0.7873\n",
            "Epoch 11/90\n",
            "200/200 [==============================] - 12s 59ms/step - loss: 0.5548 - accuracy: 0.8098 - val_loss: 0.6326 - val_accuracy: 0.7923\n",
            "Epoch 12/90\n",
            "200/200 [==============================] - 12s 59ms/step - loss: 0.5355 - accuracy: 0.8116 - val_loss: 0.6568 - val_accuracy: 0.7866\n",
            "Epoch 13/90\n",
            "200/200 [==============================] - 12s 59ms/step - loss: 0.5153 - accuracy: 0.8242 - val_loss: 0.6589 - val_accuracy: 0.7807\n",
            "Epoch 14/90\n",
            "200/200 [==============================] - 12s 59ms/step - loss: 0.5178 - accuracy: 0.8186 - val_loss: 0.5856 - val_accuracy: 0.8034\n",
            "Epoch 15/90\n",
            "200/200 [==============================] - 12s 59ms/step - loss: 0.5019 - accuracy: 0.8228 - val_loss: 0.6941 - val_accuracy: 0.7741\n",
            "Epoch 16/90\n",
            "200/200 [==============================] - 12s 59ms/step - loss: 0.4889 - accuracy: 0.8294 - val_loss: 0.5875 - val_accuracy: 0.8104\n",
            "Epoch 17/90\n",
            "200/200 [==============================] - 12s 59ms/step - loss: 0.4830 - accuracy: 0.8333 - val_loss: 0.6958 - val_accuracy: 0.7726\n",
            "Epoch 18/90\n",
            "200/200 [==============================] - 12s 58ms/step - loss: 0.4831 - accuracy: 0.8303 - val_loss: 0.7124 - val_accuracy: 0.7778\n",
            "Epoch 19/90\n",
            "200/200 [==============================] - 12s 59ms/step - loss: 0.4693 - accuracy: 0.8352 - val_loss: 0.6454 - val_accuracy: 0.7912\n",
            "Epoch 20/90\n",
            "200/200 [==============================] - 12s 59ms/step - loss: 0.4596 - accuracy: 0.8406 - val_loss: 0.6067 - val_accuracy: 0.8053\n",
            "Epoch 21/90\n",
            "200/200 [==============================] - 12s 59ms/step - loss: 0.4391 - accuracy: 0.8480 - val_loss: 0.6176 - val_accuracy: 0.8004\n",
            "Epoch 22/90\n",
            "200/200 [==============================] - 12s 59ms/step - loss: 0.4467 - accuracy: 0.8476 - val_loss: 0.5840 - val_accuracy: 0.8112\n",
            "Epoch 23/90\n",
            "200/200 [==============================] - 12s 60ms/step - loss: 0.4255 - accuracy: 0.8491 - val_loss: 0.5797 - val_accuracy: 0.8179\n",
            "Epoch 24/90\n",
            "200/200 [==============================] - 12s 60ms/step - loss: 0.4095 - accuracy: 0.8560 - val_loss: 0.6164 - val_accuracy: 0.8071\n",
            "Epoch 25/90\n",
            "200/200 [==============================] - 12s 59ms/step - loss: 0.4300 - accuracy: 0.8508 - val_loss: 0.6172 - val_accuracy: 0.8027\n",
            "Epoch 26/90\n",
            "200/200 [==============================] - 12s 59ms/step - loss: 0.4181 - accuracy: 0.8543 - val_loss: 0.5689 - val_accuracy: 0.8213\n",
            "Epoch 27/90\n",
            "200/200 [==============================] - 12s 59ms/step - loss: 0.4105 - accuracy: 0.8554 - val_loss: 0.6071 - val_accuracy: 0.8044\n",
            "Epoch 28/90\n",
            "200/200 [==============================] - 12s 59ms/step - loss: 0.4017 - accuracy: 0.8639 - val_loss: 0.5888 - val_accuracy: 0.8099\n",
            "Epoch 29/90\n",
            "200/200 [==============================] - 12s 59ms/step - loss: 0.3888 - accuracy: 0.8625 - val_loss: 0.6449 - val_accuracy: 0.7958\n",
            "Epoch 30/90\n",
            "200/200 [==============================] - 12s 59ms/step - loss: 0.4012 - accuracy: 0.8616 - val_loss: 0.6340 - val_accuracy: 0.8078\n",
            "Epoch 31/90\n",
            "200/200 [==============================] - 12s 59ms/step - loss: 0.4018 - accuracy: 0.8586 - val_loss: 0.5949 - val_accuracy: 0.8065\n",
            "Epoch 32/90\n",
            "200/200 [==============================] - 12s 59ms/step - loss: 0.3772 - accuracy: 0.8675 - val_loss: 0.5450 - val_accuracy: 0.8261\n",
            "Epoch 33/90\n",
            "200/200 [==============================] - 12s 59ms/step - loss: 0.3693 - accuracy: 0.8729 - val_loss: 0.5515 - val_accuracy: 0.8225\n",
            "Epoch 34/90\n",
            "200/200 [==============================] - 12s 59ms/step - loss: 0.3613 - accuracy: 0.8741 - val_loss: 0.5776 - val_accuracy: 0.8148\n",
            "Epoch 35/90\n",
            "200/200 [==============================] - 12s 59ms/step - loss: 0.3562 - accuracy: 0.8789 - val_loss: 0.5938 - val_accuracy: 0.8156\n",
            "Epoch 36/90\n",
            "200/200 [==============================] - 12s 59ms/step - loss: 0.3526 - accuracy: 0.8775 - val_loss: 0.5881 - val_accuracy: 0.8168\n",
            "Epoch 37/90\n",
            "200/200 [==============================] - 12s 59ms/step - loss: 0.3461 - accuracy: 0.8806 - val_loss: 0.5568 - val_accuracy: 0.8271\n",
            "Epoch 38/90\n",
            "200/200 [==============================] - 12s 59ms/step - loss: 0.3424 - accuracy: 0.8802 - val_loss: 0.6202 - val_accuracy: 0.8093\n",
            "Epoch 39/90\n",
            "200/200 [==============================] - 12s 59ms/step - loss: 0.3463 - accuracy: 0.8805 - val_loss: 0.5638 - val_accuracy: 0.8221\n",
            "Epoch 40/90\n",
            "200/200 [==============================] - 12s 59ms/step - loss: 0.3320 - accuracy: 0.8834 - val_loss: 0.5731 - val_accuracy: 0.8198\n",
            "Epoch 41/90\n",
            "200/200 [==============================] - 12s 58ms/step - loss: 0.3262 - accuracy: 0.8824 - val_loss: 0.6061 - val_accuracy: 0.8130\n",
            "Epoch 42/90\n",
            "200/200 [==============================] - 12s 59ms/step - loss: 0.3203 - accuracy: 0.8914 - val_loss: 0.5716 - val_accuracy: 0.8229\n",
            "Epoch 43/90\n",
            "200/200 [==============================] - 12s 59ms/step - loss: 0.3313 - accuracy: 0.8844 - val_loss: 0.6471 - val_accuracy: 0.7987\n",
            "Epoch 44/90\n",
            "200/200 [==============================] - 12s 59ms/step - loss: 0.3139 - accuracy: 0.8899 - val_loss: 0.5774 - val_accuracy: 0.8182\n",
            "Epoch 45/90\n",
            "200/200 [==============================] - 12s 59ms/step - loss: 0.3144 - accuracy: 0.8900 - val_loss: 0.5788 - val_accuracy: 0.8219\n",
            "Epoch 46/90\n",
            "200/200 [==============================] - 12s 59ms/step - loss: 0.2985 - accuracy: 0.8975 - val_loss: 0.5849 - val_accuracy: 0.8186\n",
            "Epoch 47/90\n",
            "200/200 [==============================] - 12s 58ms/step - loss: 0.2864 - accuracy: 0.8977 - val_loss: 0.6134 - val_accuracy: 0.8087\n",
            "Epoch 48/90\n",
            "200/200 [==============================] - 12s 58ms/step - loss: 0.2948 - accuracy: 0.8977 - val_loss: 0.5438 - val_accuracy: 0.8318\n",
            "Epoch 49/90\n",
            "200/200 [==============================] - 12s 59ms/step - loss: 0.2977 - accuracy: 0.8967 - val_loss: 0.5721 - val_accuracy: 0.8236\n",
            "Epoch 50/90\n",
            "200/200 [==============================] - 12s 60ms/step - loss: 0.2918 - accuracy: 0.8990 - val_loss: 0.5569 - val_accuracy: 0.8280\n",
            "Epoch 51/90\n",
            "200/200 [==============================] - 12s 59ms/step - loss: 0.2940 - accuracy: 0.8965 - val_loss: 0.6324 - val_accuracy: 0.8097\n",
            "Epoch 52/90\n",
            "200/200 [==============================] - 12s 58ms/step - loss: 0.2906 - accuracy: 0.8976 - val_loss: 0.5649 - val_accuracy: 0.8330\n",
            "Epoch 53/90\n",
            "200/200 [==============================] - 12s 59ms/step - loss: 0.2837 - accuracy: 0.8998 - val_loss: 0.5913 - val_accuracy: 0.8190\n",
            "Epoch 54/90\n",
            "200/200 [==============================] - 12s 59ms/step - loss: 0.2778 - accuracy: 0.9047 - val_loss: 0.6469 - val_accuracy: 0.8098\n",
            "Epoch 55/90\n",
            "200/200 [==============================] - 12s 58ms/step - loss: 0.2657 - accuracy: 0.9087 - val_loss: 0.5747 - val_accuracy: 0.8270\n",
            "Epoch 56/90\n",
            "200/200 [==============================] - 12s 59ms/step - loss: 0.2704 - accuracy: 0.9032 - val_loss: 0.5917 - val_accuracy: 0.8201\n",
            "Epoch 57/90\n",
            "200/200 [==============================] - 12s 59ms/step - loss: 0.2660 - accuracy: 0.9070 - val_loss: 0.5960 - val_accuracy: 0.8219\n",
            "Epoch 58/90\n",
            "200/200 [==============================] - 12s 58ms/step - loss: 0.2697 - accuracy: 0.9078 - val_loss: 0.6071 - val_accuracy: 0.8195\n",
            "Epoch 59/90\n",
            "200/200 [==============================] - 12s 59ms/step - loss: 0.2618 - accuracy: 0.9080 - val_loss: 0.5805 - val_accuracy: 0.8257\n",
            "Epoch 60/90\n",
            "200/200 [==============================] - 12s 58ms/step - loss: 0.2582 - accuracy: 0.9092 - val_loss: 0.5822 - val_accuracy: 0.8261\n",
            "Epoch 61/90\n",
            "200/200 [==============================] - 12s 58ms/step - loss: 0.2527 - accuracy: 0.9100 - val_loss: 0.6053 - val_accuracy: 0.8202\n",
            "Epoch 62/90\n",
            "200/200 [==============================] - 12s 59ms/step - loss: 0.2501 - accuracy: 0.9120 - val_loss: 0.5858 - val_accuracy: 0.8252\n",
            "Epoch 63/90\n",
            "200/200 [==============================] - 12s 59ms/step - loss: 0.2496 - accuracy: 0.9131 - val_loss: 0.6039 - val_accuracy: 0.8209\n",
            "Epoch 64/90\n",
            "200/200 [==============================] - 12s 59ms/step - loss: 0.2431 - accuracy: 0.9131 - val_loss: 0.6016 - val_accuracy: 0.8234\n",
            "Epoch 65/90\n",
            "200/200 [==============================] - 12s 59ms/step - loss: 0.2510 - accuracy: 0.9106 - val_loss: 0.5829 - val_accuracy: 0.8276\n",
            "Epoch 66/90\n",
            "200/200 [==============================] - 12s 59ms/step - loss: 0.2377 - accuracy: 0.9179 - val_loss: 0.7248 - val_accuracy: 0.7898\n",
            "Epoch 67/90\n",
            "200/200 [==============================] - 12s 59ms/step - loss: 0.2433 - accuracy: 0.9166 - val_loss: 0.6183 - val_accuracy: 0.8193\n",
            "Epoch 68/90\n",
            "200/200 [==============================] - 12s 59ms/step - loss: 0.2456 - accuracy: 0.9157 - val_loss: 0.5707 - val_accuracy: 0.8305\n",
            "Epoch 69/90\n",
            "200/200 [==============================] - 12s 58ms/step - loss: 0.2379 - accuracy: 0.9157 - val_loss: 0.5525 - val_accuracy: 0.8349\n",
            "Epoch 70/90\n",
            "200/200 [==============================] - 12s 59ms/step - loss: 0.2394 - accuracy: 0.9152 - val_loss: 0.6997 - val_accuracy: 0.8004\n",
            "Epoch 71/90\n",
            "200/200 [==============================] - 12s 59ms/step - loss: 0.2270 - accuracy: 0.9201 - val_loss: 0.5980 - val_accuracy: 0.8237\n",
            "Epoch 72/90\n",
            "200/200 [==============================] - 12s 59ms/step - loss: 0.2256 - accuracy: 0.9232 - val_loss: 0.5880 - val_accuracy: 0.8243\n",
            "Epoch 73/90\n",
            "200/200 [==============================] - 12s 59ms/step - loss: 0.2257 - accuracy: 0.9209 - val_loss: 0.5504 - val_accuracy: 0.8338\n",
            "Epoch 74/90\n",
            "200/200 [==============================] - 12s 59ms/step - loss: 0.2186 - accuracy: 0.9242 - val_loss: 0.6589 - val_accuracy: 0.8096\n",
            "Epoch 75/90\n",
            "200/200 [==============================] - 12s 59ms/step - loss: 0.2138 - accuracy: 0.9241 - val_loss: 0.5986 - val_accuracy: 0.8255\n",
            "Epoch 76/90\n",
            "200/200 [==============================] - 12s 60ms/step - loss: 0.2144 - accuracy: 0.9277 - val_loss: 0.5741 - val_accuracy: 0.8296\n",
            "Epoch 77/90\n",
            "200/200 [==============================] - 12s 59ms/step - loss: 0.2010 - accuracy: 0.9290 - val_loss: 0.5929 - val_accuracy: 0.8268\n",
            "Epoch 78/90\n",
            "200/200 [==============================] - 12s 59ms/step - loss: 0.2061 - accuracy: 0.9290 - val_loss: 0.5871 - val_accuracy: 0.8317\n",
            "Epoch 79/90\n",
            "200/200 [==============================] - 12s 59ms/step - loss: 0.2044 - accuracy: 0.9278 - val_loss: 0.5559 - val_accuracy: 0.8373\n",
            "Epoch 80/90\n",
            "200/200 [==============================] - 12s 58ms/step - loss: 0.2066 - accuracy: 0.9269 - val_loss: 0.5841 - val_accuracy: 0.8304\n",
            "Epoch 81/90\n",
            "200/200 [==============================] - 12s 59ms/step - loss: 0.1984 - accuracy: 0.9293 - val_loss: 0.6061 - val_accuracy: 0.8247\n",
            "Epoch 82/90\n",
            "200/200 [==============================] - 12s 59ms/step - loss: 0.1976 - accuracy: 0.9320 - val_loss: 0.6037 - val_accuracy: 0.8241\n",
            "Epoch 83/90\n",
            "200/200 [==============================] - 12s 59ms/step - loss: 0.1906 - accuracy: 0.9343 - val_loss: 0.5622 - val_accuracy: 0.8397\n",
            "Epoch 84/90\n",
            "200/200 [==============================] - 12s 59ms/step - loss: 0.1923 - accuracy: 0.9320 - val_loss: 0.6071 - val_accuracy: 0.8242\n",
            "Epoch 85/90\n",
            "200/200 [==============================] - 12s 59ms/step - loss: 0.1998 - accuracy: 0.9312 - val_loss: 0.5788 - val_accuracy: 0.8378\n",
            "Epoch 86/90\n",
            "200/200 [==============================] - 12s 59ms/step - loss: 0.1944 - accuracy: 0.9318 - val_loss: 0.6618 - val_accuracy: 0.8137\n",
            "Epoch 87/90\n",
            "200/200 [==============================] - 12s 59ms/step - loss: 0.1974 - accuracy: 0.9323 - val_loss: 0.7029 - val_accuracy: 0.8115\n",
            "Epoch 88/90\n",
            "200/200 [==============================] - 12s 59ms/step - loss: 0.1729 - accuracy: 0.9407 - val_loss: 0.6346 - val_accuracy: 0.8262\n",
            "Epoch 89/90\n",
            "200/200 [==============================] - 12s 59ms/step - loss: 0.1872 - accuracy: 0.9352 - val_loss: 0.6844 - val_accuracy: 0.8137\n",
            "Epoch 90/90\n",
            "200/200 [==============================] - 12s 59ms/step - loss: 0.1845 - accuracy: 0.9344 - val_loss: 0.6356 - val_accuracy: 0.8207\n",
            "loss= 0.635596752166748 \n",
            "acc= 0.8206999897956848\n"
          ],
          "name": "stdout"
        }
      ]
    },
    {
      "cell_type": "code",
      "metadata": {
        "id": "cH2MEG1_-CMm",
        "colab": {
          "base_uri": "https://localhost:8080/",
          "height": 295
        },
        "outputId": "a1d2b28d-d60f-4012-f2b9-93653e45fcb8"
      },
      "source": [
        "plt.plot(history.history['accuracy'])\n",
        "plt.plot(history.history['val_accuracy'])\n",
        "plt.title('model accuracy')\n",
        "plt.ylabel('accuracy')\n",
        "plt.xlabel('epoch')\n",
        "plt.legend(['train', 'test'], loc='upper left')\n",
        "plt.show()"
      ],
      "execution_count": null,
      "outputs": [
        {
          "output_type": "display_data",
          "data": {
            "image/png": "[encoded data removed]",
            "text/plain": [
              "<Figure size 432x288 with 1 Axes>"
            ]
          },
          "metadata": {
            "tags": [],
            "needs_background": "light"
          }
        }
      ]
    },
    {
      "cell_type": "code",
      "metadata": {
        "colab": {
          "base_uri": "https://localhost:8080/"
        },
        "id": "Lnamfujw9AFr",
        "outputId": "8c820f9a-01a1-427e-eca7-d79f842004ac"
      },
      "source": [
        "history2=mod.fit_generator(datagen.flow(x_train,y_train,batch_size=64), epochs=50,steps_per_epoch=200,validation_data=(x_test,y_test),verbose=1,) # validation_data=(x_test, y_test,),verbose=1) #validation_split=0.1,\n",
        "loss,acc2=mod.evaluate(x_test,y_test,verbose='1')\n",
        "print(\"loss=\",loss,\"\\nacc=\",acc2)"
      ],
      "execution_count": null,
      "outputs": [
        {
          "output_type": "stream",
          "text": [
            "Epoch 1/50\n",
            "200/200 [==============================] - 12s 62ms/step - loss: 0.1911 - accuracy: 0.9328 - val_loss: 0.6047 - val_accuracy: 0.8272\n",
            "Epoch 2/50\n",
            "200/200 [==============================] - 12s 62ms/step - loss: 0.1854 - accuracy: 0.9364 - val_loss: 0.6477 - val_accuracy: 0.8229\n",
            "Epoch 3/50\n",
            "200/200 [==============================] - 12s 62ms/step - loss: 0.1744 - accuracy: 0.9389 - val_loss: 0.7321 - val_accuracy: 0.8059\n",
            "Epoch 4/50\n",
            "200/200 [==============================] - 12s 62ms/step - loss: 0.1791 - accuracy: 0.9368 - val_loss: 0.5934 - val_accuracy: 0.8342\n",
            "Epoch 5/50\n",
            "200/200 [==============================] - 12s 62ms/step - loss: 0.1704 - accuracy: 0.9402 - val_loss: 0.6577 - val_accuracy: 0.8195\n",
            "Epoch 6/50\n",
            "200/200 [==============================] - 12s 62ms/step - loss: 0.1775 - accuracy: 0.9376 - val_loss: 0.6436 - val_accuracy: 0.8221\n",
            "Epoch 7/50\n",
            "200/200 [==============================] - 12s 61ms/step - loss: 0.1682 - accuracy: 0.9416 - val_loss: 0.6272 - val_accuracy: 0.8301\n",
            "Epoch 8/50\n",
            "200/200 [==============================] - 12s 62ms/step - loss: 0.1682 - accuracy: 0.9430 - val_loss: 0.6435 - val_accuracy: 0.8223\n",
            "Epoch 9/50\n",
            "200/200 [==============================] - 12s 62ms/step - loss: 0.1743 - accuracy: 0.9382 - val_loss: 0.5770 - val_accuracy: 0.8386\n",
            "Epoch 10/50\n",
            "200/200 [==============================] - 12s 61ms/step - loss: 0.1690 - accuracy: 0.9400 - val_loss: 0.5950 - val_accuracy: 0.8378\n",
            "Epoch 11/50\n",
            "200/200 [==============================] - 12s 61ms/step - loss: 0.1712 - accuracy: 0.9397 - val_loss: 0.6121 - val_accuracy: 0.8295\n",
            "Epoch 12/50\n",
            "200/200 [==============================] - 12s 60ms/step - loss: 0.1678 - accuracy: 0.9403 - val_loss: 0.5871 - val_accuracy: 0.8384\n",
            "Epoch 13/50\n",
            "200/200 [==============================] - 12s 60ms/step - loss: 0.1665 - accuracy: 0.9411 - val_loss: 0.5806 - val_accuracy: 0.8374\n",
            "Epoch 14/50\n",
            "200/200 [==============================] - 12s 61ms/step - loss: 0.1635 - accuracy: 0.9427 - val_loss: 0.6019 - val_accuracy: 0.8340\n",
            "Epoch 15/50\n",
            "200/200 [==============================] - 12s 60ms/step - loss: 0.1603 - accuracy: 0.9441 - val_loss: 0.6154 - val_accuracy: 0.8348\n",
            "Epoch 16/50\n",
            "200/200 [==============================] - 12s 61ms/step - loss: 0.1552 - accuracy: 0.9465 - val_loss: 0.6066 - val_accuracy: 0.8346\n",
            "Epoch 17/50\n",
            "200/200 [==============================] - 12s 60ms/step - loss: 0.1523 - accuracy: 0.9470 - val_loss: 0.6001 - val_accuracy: 0.8366\n",
            "Epoch 18/50\n",
            "200/200 [==============================] - 12s 60ms/step - loss: 0.1531 - accuracy: 0.9474 - val_loss: 0.5917 - val_accuracy: 0.8364\n",
            "Epoch 19/50\n",
            "200/200 [==============================] - 12s 61ms/step - loss: 0.1448 - accuracy: 0.9493 - val_loss: 0.7033 - val_accuracy: 0.8121\n",
            "Epoch 20/50\n",
            "200/200 [==============================] - 12s 60ms/step - loss: 0.1554 - accuracy: 0.9473 - val_loss: 0.6767 - val_accuracy: 0.8182\n",
            "Epoch 21/50\n",
            "200/200 [==============================] - 12s 60ms/step - loss: 0.1487 - accuracy: 0.9503 - val_loss: 0.5989 - val_accuracy: 0.8381\n",
            "Epoch 22/50\n",
            "200/200 [==============================] - 12s 59ms/step - loss: 0.1500 - accuracy: 0.9457 - val_loss: 0.6285 - val_accuracy: 0.8302\n",
            "Epoch 23/50\n",
            "200/200 [==============================] - 12s 59ms/step - loss: 0.1584 - accuracy: 0.9441 - val_loss: 0.6122 - val_accuracy: 0.8379\n",
            "Epoch 24/50\n",
            "200/200 [==============================] - 12s 60ms/step - loss: 0.1448 - accuracy: 0.9508 - val_loss: 0.5892 - val_accuracy: 0.8434\n",
            "Epoch 25/50\n",
            "200/200 [==============================] - 12s 59ms/step - loss: 0.1446 - accuracy: 0.9500 - val_loss: 0.6123 - val_accuracy: 0.8357\n",
            "Epoch 26/50\n",
            "200/200 [==============================] - 12s 59ms/step - loss: 0.1524 - accuracy: 0.9480 - val_loss: 0.6239 - val_accuracy: 0.8347\n",
            "Epoch 27/50\n",
            "200/200 [==============================] - 12s 59ms/step - loss: 0.1483 - accuracy: 0.9485 - val_loss: 0.6110 - val_accuracy: 0.8363\n",
            "Epoch 28/50\n",
            "200/200 [==============================] - 12s 59ms/step - loss: 0.1308 - accuracy: 0.9551 - val_loss: 0.5770 - val_accuracy: 0.8476\n",
            "Epoch 29/50\n",
            "200/200 [==============================] - 12s 59ms/step - loss: 0.1487 - accuracy: 0.9475 - val_loss: 0.5985 - val_accuracy: 0.8390\n",
            "Epoch 30/50\n",
            "200/200 [==============================] - 12s 59ms/step - loss: 0.1411 - accuracy: 0.9503 - val_loss: 0.6590 - val_accuracy: 0.8300\n",
            "Epoch 31/50\n",
            "200/200 [==============================] - 12s 59ms/step - loss: 0.1366 - accuracy: 0.9523 - val_loss: 0.6509 - val_accuracy: 0.8277\n",
            "Epoch 32/50\n",
            "200/200 [==============================] - 12s 59ms/step - loss: 0.1459 - accuracy: 0.9483 - val_loss: 0.6297 - val_accuracy: 0.8333\n",
            "Epoch 33/50\n",
            "200/200 [==============================] - 12s 59ms/step - loss: 0.1428 - accuracy: 0.9508 - val_loss: 0.6373 - val_accuracy: 0.8365\n",
            "Epoch 34/50\n",
            "200/200 [==============================] - 12s 60ms/step - loss: 0.1360 - accuracy: 0.9521 - val_loss: 0.6002 - val_accuracy: 0.8417\n",
            "Epoch 35/50\n",
            "200/200 [==============================] - 12s 59ms/step - loss: 0.1294 - accuracy: 0.9540 - val_loss: 0.6515 - val_accuracy: 0.8313\n",
            "Epoch 36/50\n",
            "200/200 [==============================] - 12s 59ms/step - loss: 0.1291 - accuracy: 0.9524 - val_loss: 0.6511 - val_accuracy: 0.8297\n",
            "Epoch 37/50\n",
            "200/200 [==============================] - 12s 59ms/step - loss: 0.1356 - accuracy: 0.9528 - val_loss: 0.6643 - val_accuracy: 0.8263\n",
            "Epoch 38/50\n",
            "200/200 [==============================] - 12s 59ms/step - loss: 0.1312 - accuracy: 0.9562 - val_loss: 0.6861 - val_accuracy: 0.8170\n",
            "Epoch 39/50\n",
            "200/200 [==============================] - 12s 59ms/step - loss: 0.1396 - accuracy: 0.9519 - val_loss: 0.6415 - val_accuracy: 0.8325\n",
            "Epoch 40/50\n",
            "200/200 [==============================] - 12s 59ms/step - loss: 0.1285 - accuracy: 0.9541 - val_loss: 0.6016 - val_accuracy: 0.8402\n",
            "Epoch 41/50\n",
            "200/200 [==============================] - 12s 59ms/step - loss: 0.1286 - accuracy: 0.9552 - val_loss: 0.5971 - val_accuracy: 0.8424\n",
            "Epoch 42/50\n",
            "200/200 [==============================] - 12s 59ms/step - loss: 0.1247 - accuracy: 0.9580 - val_loss: 0.6812 - val_accuracy: 0.8271\n",
            "Epoch 43/50\n",
            "200/200 [==============================] - 12s 59ms/step - loss: 0.1214 - accuracy: 0.9591 - val_loss: 0.5833 - val_accuracy: 0.8472\n",
            "Epoch 44/50\n",
            "200/200 [==============================] - 12s 59ms/step - loss: 0.1311 - accuracy: 0.9516 - val_loss: 0.6498 - val_accuracy: 0.8304\n",
            "Epoch 45/50\n",
            "200/200 [==============================] - 12s 59ms/step - loss: 0.1167 - accuracy: 0.9602 - val_loss: 0.6875 - val_accuracy: 0.8229\n",
            "Epoch 46/50\n",
            "200/200 [==============================] - 12s 59ms/step - loss: 0.1366 - accuracy: 0.9526 - val_loss: 0.6195 - val_accuracy: 0.8340\n",
            "Epoch 47/50\n",
            "200/200 [==============================] - 12s 59ms/step - loss: 0.1143 - accuracy: 0.9578 - val_loss: 0.6493 - val_accuracy: 0.8306\n",
            "Epoch 48/50\n",
            "200/200 [==============================] - 12s 59ms/step - loss: 0.1388 - accuracy: 0.9521 - val_loss: 0.6372 - val_accuracy: 0.8338\n",
            "Epoch 49/50\n",
            "200/200 [==============================] - 12s 59ms/step - loss: 0.1232 - accuracy: 0.9566 - val_loss: 0.6644 - val_accuracy: 0.8304\n",
            "Epoch 50/50\n",
            "200/200 [==============================] - 12s 59ms/step - loss: 0.1198 - accuracy: 0.9591 - val_loss: 0.6348 - val_accuracy: 0.8388\n",
            "loss= 0.6348307728767395 \n",
            "acc= 0.8388000130653381\n"
          ],
          "name": "stdout"
        }
      ]
    },
    {
      "cell_type": "code",
      "metadata": {
        "colab": {
          "base_uri": "https://localhost:8080/",
          "height": 295
        },
        "id": "nSArV_RA9RLS",
        "outputId": "090a610b-5bce-4e9a-f745-f17cb1a74aaf"
      },
      "source": [
        "plt.plot(history2.history['accuracy'])\n",
        "plt.plot(history2.history['val_accuracy'])\n",
        "plt.title('model accuracy')\n",
        "plt.ylabel('accuracy')\n",
        "plt.xlabel('epoch')\n",
        "plt.legend(['train', 'test'], loc='upper left')\n",
        "plt.show()"
      ],
      "execution_count": null,
      "outputs": [
        {
          "output_type": "display_data",
          "data": {
            "image/png": "[encoded data removed]",
            "text/plain": [
              "<Figure size 432x288 with 1 Axes>"
            ]
          },
          "metadata": {
            "tags": [],
            "needs_background": "light"
          }
        }
      ]
    },
    {
      "cell_type": "code",
      "metadata": {
        "colab": {
          "base_uri": "https://localhost:8080/"
        },
        "id": "YetGU-d99S2z",
        "outputId": "ed28f86a-404c-4535-97b6-6042d9407569"
      },
      "source": [
        "history3=mod.fit_generator(datagen.flow(x_train,y_train,batch_size=64), epochs=50,steps_per_epoch=200,validation_data=(x_test,y_test),verbose=1,) # validation_data=(x_test, y_test,),verbose=1) #validation_split=0.1,\n",
        "loss,acc3=mod.evaluate(x_test,y_test,verbose='1')\n",
        "print(\"loss=\",loss,\"\\nacc=\",acc2)"
      ],
      "execution_count": null,
      "outputs": [
        {
          "output_type": "stream",
          "text": [
            "Epoch 1/50\n",
            "200/200 [==============================] - 12s 59ms/step - loss: 0.0823 - accuracy: 0.9714 - val_loss: 0.6274 - val_accuracy: 0.8467\n",
            "Epoch 2/50\n",
            "200/200 [==============================] - 12s 59ms/step - loss: 0.0870 - accuracy: 0.9685 - val_loss: 0.7396 - val_accuracy: 0.8237\n",
            "Epoch 3/50\n",
            "200/200 [==============================] - 12s 59ms/step - loss: 0.0869 - accuracy: 0.9704 - val_loss: 0.8026 - val_accuracy: 0.8170\n",
            "Epoch 4/50\n",
            "200/200 [==============================] - 12s 59ms/step - loss: 0.0866 - accuracy: 0.9695 - val_loss: 0.7504 - val_accuracy: 0.8245\n",
            "Epoch 5/50\n",
            "200/200 [==============================] - 12s 58ms/step - loss: 0.0722 - accuracy: 0.9767 - val_loss: 0.6970 - val_accuracy: 0.8367\n",
            "Epoch 6/50\n",
            "200/200 [==============================] - 12s 59ms/step - loss: 0.0768 - accuracy: 0.9737 - val_loss: 0.6817 - val_accuracy: 0.8366\n",
            "Epoch 7/50\n",
            "200/200 [==============================] - 12s 59ms/step - loss: 0.0796 - accuracy: 0.9727 - val_loss: 0.6764 - val_accuracy: 0.8414\n",
            "Epoch 8/50\n",
            "200/200 [==============================] - 12s 59ms/step - loss: 0.0818 - accuracy: 0.9712 - val_loss: 0.6305 - val_accuracy: 0.8474\n",
            "Epoch 9/50\n",
            "200/200 [==============================] - 12s 59ms/step - loss: 0.0790 - accuracy: 0.9723 - val_loss: 0.6590 - val_accuracy: 0.8407\n",
            "Epoch 10/50\n",
            "200/200 [==============================] - 12s 60ms/step - loss: 0.0787 - accuracy: 0.9729 - val_loss: 0.6800 - val_accuracy: 0.8424\n",
            "Epoch 11/50\n",
            "200/200 [==============================] - 12s 59ms/step - loss: 0.0736 - accuracy: 0.9745 - val_loss: 0.6660 - val_accuracy: 0.8429\n",
            "Epoch 12/50\n",
            "200/200 [==============================] - 12s 59ms/step - loss: 0.0767 - accuracy: 0.9729 - val_loss: 0.7025 - val_accuracy: 0.8376\n",
            "Epoch 13/50\n",
            "200/200 [==============================] - 12s 59ms/step - loss: 0.0785 - accuracy: 0.9720 - val_loss: 0.6701 - val_accuracy: 0.8411\n",
            "Epoch 14/50\n",
            "200/200 [==============================] - 12s 59ms/step - loss: 0.0800 - accuracy: 0.9735 - val_loss: 0.7210 - val_accuracy: 0.8301\n",
            "Epoch 15/50\n",
            "200/200 [==============================] - 12s 59ms/step - loss: 0.0777 - accuracy: 0.9727 - val_loss: 0.6901 - val_accuracy: 0.8318\n",
            "Epoch 16/50\n",
            "200/200 [==============================] - 12s 59ms/step - loss: 0.0764 - accuracy: 0.9749 - val_loss: 0.6911 - val_accuracy: 0.8364\n",
            "Epoch 17/50\n",
            "200/200 [==============================] - 12s 59ms/step - loss: 0.0766 - accuracy: 0.9748 - val_loss: 0.6605 - val_accuracy: 0.8457\n",
            "Epoch 18/50\n",
            "200/200 [==============================] - 12s 59ms/step - loss: 0.0801 - accuracy: 0.9718 - val_loss: 0.6694 - val_accuracy: 0.8429\n",
            "Epoch 19/50\n",
            "200/200 [==============================] - 12s 59ms/step - loss: 0.0782 - accuracy: 0.9739 - val_loss: 0.6362 - val_accuracy: 0.8503\n",
            "Epoch 20/50\n",
            "200/200 [==============================] - 12s 59ms/step - loss: 0.0796 - accuracy: 0.9727 - val_loss: 0.6525 - val_accuracy: 0.8445\n",
            "Epoch 21/50\n",
            "200/200 [==============================] - 12s 59ms/step - loss: 0.0732 - accuracy: 0.9752 - val_loss: 0.6682 - val_accuracy: 0.8420\n",
            "Epoch 22/50\n",
            "200/200 [==============================] - 12s 59ms/step - loss: 0.0775 - accuracy: 0.9726 - val_loss: 0.6698 - val_accuracy: 0.8441\n",
            "Epoch 23/50\n",
            "200/200 [==============================] - 12s 59ms/step - loss: 0.0726 - accuracy: 0.9753 - val_loss: 0.7529 - val_accuracy: 0.8251\n",
            "Epoch 24/50\n",
            "200/200 [==============================] - 12s 59ms/step - loss: 0.0716 - accuracy: 0.9757 - val_loss: 0.6754 - val_accuracy: 0.8413\n",
            "Epoch 25/50\n",
            "200/200 [==============================] - 12s 59ms/step - loss: 0.0640 - accuracy: 0.9792 - val_loss: 0.6984 - val_accuracy: 0.8394\n",
            "Epoch 26/50\n",
            "200/200 [==============================] - 12s 59ms/step - loss: 0.0679 - accuracy: 0.9772 - val_loss: 0.6500 - val_accuracy: 0.8480\n",
            "Epoch 27/50\n",
            "200/200 [==============================] - 12s 59ms/step - loss: 0.0645 - accuracy: 0.9783 - val_loss: 0.7086 - val_accuracy: 0.8384\n",
            "Epoch 28/50\n",
            "200/200 [==============================] - 12s 59ms/step - loss: 0.0761 - accuracy: 0.9726 - val_loss: 0.7191 - val_accuracy: 0.8297\n",
            "Epoch 29/50\n",
            "200/200 [==============================] - 12s 59ms/step - loss: 0.0685 - accuracy: 0.9763 - val_loss: 0.6665 - val_accuracy: 0.8435\n",
            "Epoch 30/50\n",
            "200/200 [==============================] - 12s 59ms/step - loss: 0.0675 - accuracy: 0.9784 - val_loss: 0.6699 - val_accuracy: 0.8451\n",
            "Epoch 31/50\n",
            "200/200 [==============================] - 12s 59ms/step - loss: 0.0670 - accuracy: 0.9748 - val_loss: 0.6797 - val_accuracy: 0.8435\n",
            "Epoch 32/50\n",
            "200/200 [==============================] - 12s 59ms/step - loss: 0.0692 - accuracy: 0.9763 - val_loss: 0.7090 - val_accuracy: 0.8378\n",
            "Epoch 33/50\n",
            "200/200 [==============================] - 12s 59ms/step - loss: 0.0645 - accuracy: 0.9772 - val_loss: 0.7079 - val_accuracy: 0.8366\n",
            "Epoch 34/50\n",
            "200/200 [==============================] - 12s 59ms/step - loss: 0.0717 - accuracy: 0.9751 - val_loss: 0.6512 - val_accuracy: 0.8450\n",
            "Epoch 35/50\n",
            "200/200 [==============================] - 12s 59ms/step - loss: 0.0630 - accuracy: 0.9787 - val_loss: 0.6626 - val_accuracy: 0.8480\n",
            "Epoch 36/50\n",
            "200/200 [==============================] - 12s 59ms/step - loss: 0.0720 - accuracy: 0.9752 - val_loss: 0.6924 - val_accuracy: 0.8402\n",
            "Epoch 37/50\n",
            "200/200 [==============================] - 12s 59ms/step - loss: 0.0694 - accuracy: 0.9759 - val_loss: 0.6955 - val_accuracy: 0.8358\n",
            "Epoch 38/50\n",
            "200/200 [==============================] - 12s 59ms/step - loss: 0.0689 - accuracy: 0.9767 - val_loss: 0.6581 - val_accuracy: 0.8409\n",
            "Epoch 39/50\n",
            "200/200 [==============================] - 12s 59ms/step - loss: 0.0637 - accuracy: 0.9787 - val_loss: 0.6937 - val_accuracy: 0.8367\n",
            "Epoch 40/50\n",
            "200/200 [==============================] - 12s 58ms/step - loss: 0.0626 - accuracy: 0.9787 - val_loss: 0.6444 - val_accuracy: 0.8493\n",
            "Epoch 41/50\n",
            "200/200 [==============================] - 12s 58ms/step - loss: 0.0749 - accuracy: 0.9756 - val_loss: 0.7029 - val_accuracy: 0.8349\n",
            "Epoch 42/50\n",
            "200/200 [==============================] - 12s 58ms/step - loss: 0.0699 - accuracy: 0.9750 - val_loss: 0.7297 - val_accuracy: 0.8276\n",
            "Epoch 43/50\n",
            "200/200 [==============================] - 12s 58ms/step - loss: 0.0669 - accuracy: 0.9770 - val_loss: 0.7139 - val_accuracy: 0.8332\n",
            "Epoch 44/50\n",
            "200/200 [==============================] - 12s 58ms/step - loss: 0.0682 - accuracy: 0.9762 - val_loss: 0.7057 - val_accuracy: 0.8362\n",
            "Epoch 45/50\n",
            "200/200 [==============================] - 12s 59ms/step - loss: 0.0595 - accuracy: 0.9790 - val_loss: 0.6905 - val_accuracy: 0.8408\n",
            "Epoch 46/50\n",
            "200/200 [==============================] - 12s 59ms/step - loss: 0.0720 - accuracy: 0.9767 - val_loss: 0.6849 - val_accuracy: 0.8370\n",
            "Epoch 47/50\n",
            "200/200 [==============================] - 12s 58ms/step - loss: 0.0637 - accuracy: 0.9787 - val_loss: 0.7165 - val_accuracy: 0.8385\n",
            "Epoch 48/50\n",
            "200/200 [==============================] - 12s 58ms/step - loss: 0.0584 - accuracy: 0.9805 - val_loss: 0.8126 - val_accuracy: 0.8202\n",
            "Epoch 49/50\n",
            "200/200 [==============================] - 12s 59ms/step - loss: 0.0669 - accuracy: 0.9770 - val_loss: 0.6813 - val_accuracy: 0.8440\n",
            "Epoch 50/50\n",
            "200/200 [==============================] - 12s 58ms/step - loss: 0.0679 - accuracy: 0.9778 - val_loss: 0.6940 - val_accuracy: 0.8415\n",
            "loss= 0.6939621567726135 \n",
            "acc= 0.8378000259399414\n"
          ],
          "name": "stdout"
        }
      ]
    },
    {
      "cell_type": "code",
      "metadata": {
        "colab": {
          "base_uri": "https://localhost:8080/",
          "height": 295
        },
        "id": "kVtd3bI89aCq",
        "outputId": "b3de4ae0-4595-406b-9a3d-b66ac5bcbb8e"
      },
      "source": [
        "plt.plot(history3.history['accuracy'])\n",
        "plt.plot(history3.history['val_accuracy'])\n",
        "plt.title('model accuracy')\n",
        "plt.ylabel('accuracy')\n",
        "plt.xlabel('epoch')\n",
        "plt.legend(['train', 'test'], loc='upper left')\n",
        "plt.show()"
      ],
      "execution_count": null,
      "outputs": [
        {
          "output_type": "display_data",
          "data": {
            "image/png": "[encoded data removed]",
            "text/plain": [
              "<Figure size 432x288 with 1 Axes>"
            ]
          },
          "metadata": {
            "tags": [],
            "needs_background": "light"
          }
        }
      ]
    },
    {
      "cell_type": "code",
      "metadata": {
        "colab": {
          "base_uri": "https://localhost:8080/"
        },
        "id": "dPPmS1Zn9xQr",
        "outputId": "77c8385d-db61-4b7a-d639-9d16b7a61624"
      },
      "source": [
        "Average=(acc+acc2+acc3)/3.0\n",
        "print(\"Average accuracy= \",Average)"
      ],
      "execution_count": null,
      "outputs": [
        {
          "output_type": "stream",
          "text": [
            "Average accuracy=  0.8333333333333334\n"
          ],
          "name": "stdout"
        }
      ]
    }
  ]
}