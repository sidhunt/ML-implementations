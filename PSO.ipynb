{
  "nbformat": 4,
  "nbformat_minor": 0,
  "metadata": {
    "colab": {
      "name": "PSO.ipynb",
      "provenance": [],
      "collapsed_sections": [],
      "authorship_tag": "ABX9TyNuexQtSmV17htQKbJT4KvM",
      "include_colab_link": true
    },
    "kernelspec": {
      "name": "python3",
      "display_name": "Python 3"
    }
  },
  "cells": [
    {
      "cell_type": "markdown",
      "metadata": {
        "id": "view-in-github",
        "colab_type": "text"
      },
      "source": [
        "<a href=\"https://colab.research.google.com/github/sidhunt/ML-implementations/blob/main/PSO.ipynb\" target=\"_parent\"><img src=\"https://colab.research.google.com/assets/colab-badge.svg\" alt=\"Open In Colab\"/></a>"
      ]
    },
    {
      "cell_type": "markdown",
      "metadata": {
        "id": "N6Rwlwvcl0vT"
      },
      "source": [
        "#Assignment 3 Part 1 submission by Siddhant Badola(ID-1154586)\n",
        "\n",
        "\n",
        "---\n",
        "**Problem Statement**- Implement Incremental Extreme Learning Machine with one intelligent optimization algorithm\n",
        "\n",
        "\n",
        "---\n",
        "\n",
        "**Implementation**- I have used PSO as optimization algorithm.\n"
      ]
    },
    {
      "cell_type": "code",
      "metadata": {
        "id": "QZB0ANPsP43e"
      },
      "source": [
        "from keras.datasets import mnist\n",
        "import numpy as np\n",
        "import pandas as pd\n",
        "from sklearn.model_selection import train_test_split\n",
        "from sklearn.preprocessing import OneHotEncoder\n",
        "from sklearn.preprocessing import MinMaxScaler\n",
        "from sklearn.preprocessing import StandardScaler\n",
        "from scipy.linalg import pinv2"
      ],
      "execution_count": null,
      "outputs": []
    },
    {
      "cell_type": "code",
      "metadata": {
        "id": "NL13NUKPSvZE",
        "colab": {
          "base_uri": "https://localhost:8080/"
        },
        "outputId": "fda6262b-35ba-47e3-92dd-5555a4644219"
      },
      "source": [
        "(x_train,y_train),(x_test,y_test)=mnist.load_data()"
      ],
      "execution_count": null,
      "outputs": [
        {
          "output_type": "stream",
          "text": [
            "Downloading data from https://storage.googleapis.com/tensorflow/tf-keras-datasets/mnist.npz\n",
            "11493376/11490434 [==============================] - 0s 0us/step\n"
          ],
          "name": "stdout"
        }
      ]
    },
    {
      "cell_type": "code",
      "metadata": {
        "id": "NX-67LBkTztd",
        "colab": {
          "base_uri": "https://localhost:8080/"
        },
        "outputId": "7836644d-dc77-4889-ce8d-6356787127cf"
      },
      "source": [
        "np.shape(x_train)"
      ],
      "execution_count": null,
      "outputs": [
        {
          "output_type": "execute_result",
          "data": {
            "text/plain": [
              "(60000, 28, 28)"
            ]
          },
          "metadata": {
            "tags": []
          },
          "execution_count": 3
        }
      ]
    },
    {
      "cell_type": "code",
      "metadata": {
        "id": "d3nc4cmvUAAr",
        "colab": {
          "base_uri": "https://localhost:8080/"
        },
        "outputId": "2ec9810f-e7c6-44ed-de3c-29e8c76957af"
      },
      "source": [
        "np.shape(x_test)"
      ],
      "execution_count": null,
      "outputs": [
        {
          "output_type": "execute_result",
          "data": {
            "text/plain": [
              "(10000, 28, 28)"
            ]
          },
          "metadata": {
            "tags": []
          },
          "execution_count": 4
        }
      ]
    },
    {
      "cell_type": "code",
      "metadata": {
        "id": "j9NidUfqUHgg"
      },
      "source": [
        "ohe= OneHotEncoder(categories='auto',)\n",
        "scaler=StandardScaler()"
      ],
      "execution_count": null,
      "outputs": []
    },
    {
      "cell_type": "code",
      "metadata": {
        "id": "o_22729fV6dY"
      },
      "source": [
        "x_tr=np.reshape(a=x_train,newshape=(60000,784))"
      ],
      "execution_count": null,
      "outputs": []
    },
    {
      "cell_type": "code",
      "metadata": {
        "id": "gsLGCXsiW-yr",
        "colab": {
          "base_uri": "https://localhost:8080/"
        },
        "outputId": "b2acc34d-2908-4c45-e629-ffd19a4632f5"
      },
      "source": [
        "x_tr.shape"
      ],
      "execution_count": null,
      "outputs": [
        {
          "output_type": "execute_result",
          "data": {
            "text/plain": [
              "(60000, 784)"
            ]
          },
          "metadata": {
            "tags": []
          },
          "execution_count": 7
        }
      ]
    },
    {
      "cell_type": "code",
      "metadata": {
        "id": "Rs9atBxBYIG6"
      },
      "source": [
        "x_te=np.reshape(a=x_test,newshape=(10000,784))"
      ],
      "execution_count": null,
      "outputs": []
    },
    {
      "cell_type": "code",
      "metadata": {
        "id": "59LiYhM2RS4s",
        "colab": {
          "base_uri": "https://localhost:8080/"
        },
        "outputId": "68de8ebc-7e2a-423d-c30a-290fc64e67c2"
      },
      "source": [
        "y_train=y_train.reshape(-1,1)\n",
        "print(y_train.shape)\n",
        "y_test=y_test.reshape(-1,1)\n",
        "print(y_test.shape)"
      ],
      "execution_count": null,
      "outputs": [
        {
          "output_type": "stream",
          "text": [
            "(60000, 1)\n",
            "(10000, 1)\n"
          ],
          "name": "stdout"
        }
      ]
    },
    {
      "cell_type": "code",
      "metadata": {
        "id": "vDbd8nrGYieO",
        "colab": {
          "base_uri": "https://localhost:8080/"
        },
        "outputId": "d72ea3cb-47f4-4779-cc6d-74b2f8963e76"
      },
      "source": [
        "y_tr=ohe.fit_transform(y_train).toarray()\n",
        "print(y_tr[1])"
      ],
      "execution_count": null,
      "outputs": [
        {
          "output_type": "stream",
          "text": [
            "[1. 0. 0. 0. 0. 0. 0. 0. 0. 0.]\n"
          ],
          "name": "stdout"
        }
      ]
    },
    {
      "cell_type": "code",
      "metadata": {
        "id": "_NBgENQKRlUU",
        "colab": {
          "base_uri": "https://localhost:8080/"
        },
        "outputId": "ff328bcc-c6cb-4373-e875-30f47235e61a"
      },
      "source": [
        "y_te=ohe.fit_transform(y_test).toarray()\n",
        "print(y_te[0])"
      ],
      "execution_count": null,
      "outputs": [
        {
          "output_type": "stream",
          "text": [
            "[0. 0. 0. 0. 0. 0. 0. 1. 0. 0.]\n"
          ],
          "name": "stdout"
        }
      ]
    },
    {
      "cell_type": "code",
      "metadata": {
        "id": "Iv_D2tENR_yE",
        "colab": {
          "base_uri": "https://localhost:8080/"
        },
        "outputId": "af4d4384-69bd-4320-c078-8124d86842a5"
      },
      "source": [
        "x_tr=scaler.fit_transform(x_tr,)\n",
        "print(x_tr[0,0])"
      ],
      "execution_count": null,
      "outputs": [
        {
          "output_type": "stream",
          "text": [
            "0.0\n"
          ],
          "name": "stdout"
        }
      ]
    },
    {
      "cell_type": "code",
      "metadata": {
        "id": "bnMxN1WLSvz8"
      },
      "source": [
        "x_te=scaler.fit_transform(x_te)"
      ],
      "execution_count": null,
      "outputs": []
    },
    {
      "cell_type": "code",
      "metadata": {
        "id": "kJTybTlNS_Bw",
        "colab": {
          "base_uri": "https://localhost:8080/"
        },
        "outputId": "a9968fef-18f8-4542-e25d-c3d8b3bed54c"
      },
      "source": [
        "input_size=x_tr.shape[1]\n",
        "print(input_size)\n",
        "hidden_size=1000\n",
        "input_weights=0\n",
        "biases=0"
      ],
      "execution_count": null,
      "outputs": [
        {
          "output_type": "stream",
          "text": [
            "784\n"
          ],
          "name": "stdout"
        }
      ]
    },
    {
      "cell_type": "code",
      "metadata": {
        "id": "Z4wl0ndOTOff"
      },
      "source": [
        "\n",
        "def init(X):\n",
        "  print(X.shape)\n",
        "  input_weights=np.random.normal(size=[X.shape[1],hidden_size])\n",
        "  biases=np.random.normal(size=[hidden_size])\n",
        "  return np.dot(X,input_weights)"
      ],
      "execution_count": null,
      "outputs": []
    },
    {
      "cell_type": "code",
      "metadata": {
        "id": "0gvUmBjKTrer"
      },
      "source": [
        "def sig(x):\n",
        "    calculate = 1/(1+np.exp(-x))\n",
        "    return calculate\n",
        "def relu(x):\n",
        "    return np.maximum(x, 0, x)"
      ],
      "execution_count": null,
      "outputs": []
    },
    {
      "cell_type": "code",
      "metadata": {
        "id": "wA1O-GuGT39q"
      },
      "source": [
        "def hidden_nodes(X):\n",
        "  G=np.dot(X,input_weights)\n",
        "  G=G+biases\n",
        "  H=relu(G)\n",
        "  return H\n",
        "output_weights=np.dot(pinv2(hidden_nodes(x_tr)),y_tr)"
      ],
      "execution_count": null,
      "outputs": []
    },
    {
      "cell_type": "code",
      "metadata": {
        "id": "w0ui7jb7Uwtw"
      },
      "source": [
        "def predict(X):\n",
        "    out = hidden_nodes(X)\n",
        "    out = np.dot(out, output_weights)\n",
        "    return out"
      ],
      "execution_count": null,
      "outputs": []
    },
    {
      "cell_type": "code",
      "metadata": {
        "id": "Pv2VL-IMYVNl",
        "colab": {
          "base_uri": "https://localhost:8080/"
        },
        "outputId": "f778d2cd-0363-4e6e-ccad-0c42cfbf6bfe"
      },
      "source": [
        "% pip install pyswarms "
      ],
      "execution_count": null,
      "outputs": [
        {
          "output_type": "stream",
          "text": [
            "Requirement already satisfied: pyswarms in /usr/local/lib/python3.6/dist-packages (1.1.0)\n",
            "Requirement already satisfied: tqdm in /usr/local/lib/python3.6/dist-packages (from pyswarms) (4.41.1)\n",
            "Requirement already satisfied: numpy in /usr/local/lib/python3.6/dist-packages (from pyswarms) (1.18.5)\n",
            "Requirement already satisfied: matplotlib>=1.3.1 in /usr/local/lib/python3.6/dist-packages (from pyswarms) (3.2.2)\n",
            "Requirement already satisfied: scipy in /usr/local/lib/python3.6/dist-packages (from pyswarms) (1.4.1)\n",
            "Requirement already satisfied: future in /usr/local/lib/python3.6/dist-packages (from pyswarms) (0.16.0)\n",
            "Requirement already satisfied: attrs in /usr/local/lib/python3.6/dist-packages (from pyswarms) (20.2.0)\n",
            "Requirement already satisfied: pyparsing!=2.0.4,!=2.1.2,!=2.1.6,>=2.0.1 in /usr/local/lib/python3.6/dist-packages (from matplotlib>=1.3.1->pyswarms) (2.4.7)\n",
            "Requirement already satisfied: cycler>=0.10 in /usr/local/lib/python3.6/dist-packages (from matplotlib>=1.3.1->pyswarms) (0.10.0)\n",
            "Requirement already satisfied: python-dateutil>=2.1 in /usr/local/lib/python3.6/dist-packages (from matplotlib>=1.3.1->pyswarms) (2.8.1)\n",
            "Requirement already satisfied: kiwisolver>=1.0.1 in /usr/local/lib/python3.6/dist-packages (from matplotlib>=1.3.1->pyswarms) (1.2.0)\n",
            "Requirement already satisfied: six in /usr/local/lib/python3.6/dist-packages (from cycler>=0.10->matplotlib>=1.3.1->pyswarms) (1.15.0)\n"
          ],
          "name": "stdout"
        }
      ]
    },
    {
      "cell_type": "code",
      "metadata": {
        "id": "mRtqIUckYxAC"
      },
      "source": [
        "import pyswarms as ps"
      ],
      "execution_count": null,
      "outputs": []
    },
    {
      "cell_type": "code",
      "metadata": {
        "id": "GS9LNkCNpjiC"
      },
      "source": [
        "def func(X):\n",
        "  input_weights=np.random.normal(size=[x_te.shape[1],hidden_size])\n",
        "  biases=np.random.normal(size=[hidden_size])\n",
        "  prediction = predict(x_te)\n",
        "  correct = 0\n",
        "  total = prediction.shape[0]\n",
        "  \n",
        "\n",
        "  for i in range(total):\n",
        "    predicted = np.argmax(prediction[i])\n",
        "    actual = np.argmax(y_te[i])\n",
        "    correct += 1 if predicted == actual else 0\n",
        "  accuracy = correct/total\n",
        "  #print('Accuracy for ', hidden_size, ' hidden nodes: ', accuracy)\n",
        "  return accuracy"
      ],
      "execution_count": null,
      "outputs": []
    },
    {
      "cell_type": "code",
      "metadata": {
        "id": "VmXt0TqZDNia"
      },
      "source": [
        "def f(x):\n",
        "    n_particles = x.shape[0]\n",
        "    j = [func(x[i]) for i in range(n_particles)]\n",
        "\n",
        "    return np.array(j)"
      ],
      "execution_count": null,
      "outputs": []
    },
    {
      "cell_type": "code",
      "metadata": {
        "id": "U58uPgAdY4pE",
        "colab": {
          "base_uri": "https://localhost:8080/"
        },
        "outputId": "ab395448-f298-472e-8651-907097688910"
      },
      "source": [
        "optimizer= ps.single.GlobalBestPSO(n_particles=10,dimensions=784,options={'c1':0.2,'c2':0.1,'w':0.5})\n",
        "cost,pos=optimizer.optimize(f,iters=5,)\n",
        "print(pos.size)"
      ],
      "execution_count": null,
      "outputs": [
        {
          "output_type": "stream",
          "text": [
            "2020-10-30 17:38:11,800 - pyswarms.single.global_best - INFO - Optimize for 5 iters with {'c1': 0.2, 'c2': 0.1, 'w': 0.5}\n",
            "pyswarms.single.global_best: 100%|██████████|5/5, best_cost=0.098\n",
            "2020-10-30 17:38:20,702 - pyswarms.single.global_best - INFO - Optimization finished | best cost: 0.098, best pos: [2.30638566e-01 3.94950118e-01 5.14113280e-01 3.93156975e-01\n",
            " 8.72907718e-01 9.94054922e-01 6.00885092e-01 6.32415800e-01\n",
            " 8.42550830e-01 7.45474720e-01 6.25094770e-02 3.98225895e-01\n",
            " 3.39160573e-01 4.30599144e-02 4.12297174e-02 1.73643132e-01\n",
            " 7.75937904e-01 9.71294019e-01 8.09002343e-01 2.36936393e-01\n",
            " 6.50775355e-01 6.97922824e-01 7.91082982e-01 5.41555316e-01\n",
            " 7.34532028e-01 7.56142615e-01 1.55371902e-01 6.32209880e-01\n",
            " 7.95477946e-01 3.08256574e-01 8.78392427e-01 2.32039497e-01\n",
            " 7.87675404e-01 1.42606152e-01 1.46455873e-01 8.04270112e-01\n",
            " 7.30368094e-01 8.68058225e-01 9.59939617e-01 3.65441121e-01\n",
            " 8.98637963e-01 1.50681236e-01 8.84219207e-01 2.28752299e-01\n",
            " 9.27419669e-01 5.97317889e-01 5.19131540e-01 6.40692745e-01\n",
            " 8.92334931e-01 6.05806265e-02 4.62294239e-01 5.47919779e-01\n",
            " 3.77471831e-01 7.56572540e-03 2.71407873e-01 4.65870949e-01\n",
            " 2.21107430e-02 7.53524476e-01 2.35981580e-01 8.09946570e-01\n",
            " 5.06440691e-01 9.21753467e-01 6.21220126e-01 3.04291521e-01\n",
            " 7.73038246e-01 6.95675700e-01 5.84072582e-01 4.35334562e-01\n",
            " 7.79169551e-01 2.63736741e-01 4.02650982e-02 2.21120613e-01\n",
            " 7.04551025e-01 1.04913574e-02 7.95106850e-01 2.86850601e-01\n",
            " 2.31968832e-02 2.52371839e-01 6.14643140e-01 9.62722745e-02\n",
            " 8.37658922e-01 6.84113446e-02 4.94462802e-01 5.63851776e-01\n",
            " 2.88098815e-01 8.11427438e-01 6.33093903e-01 8.91189584e-01\n",
            " 7.16127832e-01 8.86458388e-01 5.68128548e-01 7.06723126e-01\n",
            " 2.70774134e-01 9.47919634e-02 3.30984341e-01 8.17545466e-01\n",
            " 6.06793371e-01 3.89643246e-01 1.53318794e-01 5.32743648e-01\n",
            " 6.89593347e-01 9.17571356e-02 2.67248790e-01 4.06271849e-02\n",
            " 6.63045756e-01 3.47623633e-01 7.58740653e-01 6.60109179e-02\n",
            " 9.19502557e-01 7.81590018e-01 8.42235724e-01 5.39009594e-01\n",
            " 4.15229236e-01 9.30914479e-02 4.66684775e-01 7.95444041e-01\n",
            " 9.51751807e-01 5.24888914e-01 1.67355018e-01 9.24807539e-01\n",
            " 4.21920933e-01 7.73970118e-02 2.42321607e-01 5.38294856e-01\n",
            " 9.88483821e-01 7.65213635e-01 3.47160343e-01 4.99592710e-01\n",
            " 6.47536106e-01 2.53632485e-01 7.39634539e-01 1.23129040e-01\n",
            " 7.41761536e-01 9.75263972e-01 9.54859797e-01 4.84204972e-02\n",
            " 1.93700166e-01 7.20360295e-01 6.63664333e-01 8.28818702e-01\n",
            " 1.51488958e-01 2.43299693e-01 8.22022810e-01 4.99727649e-01\n",
            " 5.30110499e-01 3.95409861e-01 2.01866345e-01 4.27389992e-01\n",
            " 9.23702502e-01 4.97869353e-01 6.31917958e-01 2.43236932e-01\n",
            " 4.82381865e-01 6.99309010e-01 9.42176856e-01 6.51552864e-01\n",
            " 4.62064814e-01 8.81224961e-01 5.85124170e-01 1.09334670e-01\n",
            " 9.61161324e-01 1.23962267e-01 2.87598546e-01 1.54272732e-01\n",
            " 9.24666415e-01 9.92248963e-01 9.51795091e-01 3.42513750e-01\n",
            " 7.84198981e-01 9.07688265e-01 8.53347530e-01 7.18840154e-01\n",
            " 4.61786658e-01 1.12885723e-01 8.90607434e-01 6.61702221e-01\n",
            " 8.61343189e-01 5.85747311e-01 9.76372763e-01 7.27058241e-02\n",
            " 2.05851306e-01 3.92736818e-01 2.84395368e-01 2.74966516e-01\n",
            " 9.65079622e-01 1.17814357e-01 7.56774488e-01 9.29601295e-01\n",
            " 4.05715407e-01 6.59636603e-01 3.01916264e-01 4.61514473e-01\n",
            " 8.06863189e-01 5.21552376e-01 2.78293266e-01 2.13408476e-01\n",
            " 3.36809516e-02 2.84251564e-01 3.99006060e-01 2.83700192e-01\n",
            " 8.09800666e-01 3.83101508e-01 5.89041142e-01 7.76285840e-01\n",
            " 7.32715736e-01 6.50761184e-01 3.22574519e-01 5.52766092e-01\n",
            " 5.61841110e-01 8.22334050e-02 2.65631261e-02 4.90516749e-01\n",
            " 9.40028891e-01 6.59845854e-01 4.31131299e-02 9.24490458e-01\n",
            " 7.94245139e-01 9.40634672e-01 6.84169730e-01 5.23074298e-01\n",
            " 8.51159339e-01 8.75345432e-01 6.23701489e-01 8.78071515e-01\n",
            " 4.16697893e-01 3.98464008e-01 3.81144353e-01 5.50751104e-02\n",
            " 4.47242157e-01 2.76651115e-01 7.31263990e-01 8.46194771e-01\n",
            " 1.87893406e-01 8.50818030e-01 6.29359009e-01 6.66274071e-01\n",
            " 9.24823274e-01 1.07511813e-01 7.82334087e-01 1.29057855e-01\n",
            " 7.23417550e-01 9.29104198e-01 3.87086945e-01 8.40556197e-01\n",
            " 7.65328982e-01 8.02363606e-01 7.21757767e-01 9.30360987e-01\n",
            " 6.37689464e-01 1.98595266e-01 5.57061963e-01 8.53514982e-01\n",
            " 6.01182107e-01 8.02525764e-02 2.71641033e-01 6.55343855e-02\n",
            " 7.00086223e-01 4.87867955e-01 7.62720681e-01 3.26588841e-01\n",
            " 5.32723083e-01 3.60681495e-01 5.40777828e-02 2.17390430e-01\n",
            " 4.36214469e-01 3.23126339e-01 1.48813834e-01 3.48926509e-01\n",
            " 5.08326486e-01 2.68130647e-01 5.32062286e-01 5.62793662e-01\n",
            " 5.29598530e-01 3.70167107e-01 3.33329273e-01 6.41806557e-01\n",
            " 4.85223936e-01 1.42461366e-01 5.48208383e-01 6.54093175e-01\n",
            " 9.24750883e-02 9.50350962e-01 6.79548804e-01 8.20881140e-02\n",
            " 7.32138755e-01 2.05498287e-01 2.38636915e-01 8.42570732e-01\n",
            " 4.63333054e-01 2.63805284e-01 3.49674385e-01 9.54961339e-01\n",
            " 8.18970839e-01 5.85171124e-01 7.40932139e-01 4.76124874e-01\n",
            " 3.10893103e-01 6.26043901e-01 8.23098049e-01 6.09377012e-01\n",
            " 6.94848458e-01 2.14522992e-01 3.40140995e-01 3.54354930e-01\n",
            " 3.55012636e-01 2.70475622e-01 7.48969579e-01 2.57931992e-01\n",
            " 6.66106132e-01 6.79484961e-01 1.84175063e-01 2.70334047e-01\n",
            " 1.65258442e-01 9.94444325e-01 5.44198222e-01 9.77689606e-01\n",
            " 1.02956542e-01 3.81485278e-02 3.43806822e-01 9.72736048e-01\n",
            " 4.19231929e-01 8.61679151e-01 8.88659847e-01 4.86370733e-02\n",
            " 6.94188936e-01 4.15013959e-01 1.51924035e-01 2.78219672e-01\n",
            " 1.70785542e-01 1.34688715e-01 1.04313619e-01 2.77589125e-01\n",
            " 3.06706134e-01 3.04007100e-02 5.57157191e-01 6.31312890e-01\n",
            " 7.59803996e-01 5.97293973e-01 2.99118682e-01 1.08375490e-01\n",
            " 2.31595967e-01 3.68601184e-01 6.89330777e-01 1.20918837e-02\n",
            " 4.45965953e-01 1.12384559e-01 9.38148630e-01 6.47516808e-01\n",
            " 1.88364554e-01 4.71624007e-01 4.58213502e-01 4.28734014e-01\n",
            " 6.45672526e-02 1.31885423e-01 2.17628148e-01 7.81089852e-02\n",
            " 9.46285499e-01 3.66756173e-01 1.70264497e-01 8.73812811e-01\n",
            " 2.16908393e-01 5.58272002e-01 5.73721799e-01 2.21591019e-02\n",
            " 6.83059153e-01 1.53681230e-01 5.11796552e-01 6.17379168e-01\n",
            " 6.43321425e-01 9.75134854e-01 1.64851910e-01 1.41694239e-02\n",
            " 3.08983963e-01 4.19817786e-01 1.43283805e-01 4.38453356e-01\n",
            " 3.52827559e-01 3.40910017e-01 2.97826184e-01 1.61465122e-02\n",
            " 7.08529133e-01 6.47112139e-01 5.58126379e-01 7.21333616e-02\n",
            " 9.62324984e-01 5.21641600e-01 4.55102558e-01 5.11779504e-01\n",
            " 7.98302790e-01 5.11071015e-01 2.32467756e-02 1.75449732e-02\n",
            " 5.57067925e-01 1.85447725e-02 5.97116809e-01 9.84007199e-01\n",
            " 8.84332492e-01 8.45258059e-01 8.42243278e-01 1.17824978e-01\n",
            " 9.81424260e-02 3.66345583e-01 5.74363873e-02 4.91288167e-01\n",
            " 3.12067616e-01 7.57086852e-02 3.71595174e-01 8.85334918e-01\n",
            " 5.93234354e-01 3.30720612e-01 4.86112744e-01 1.31810694e-01\n",
            " 9.20688453e-01 2.71436262e-01 2.13759623e-01 7.35975250e-01\n",
            " 3.64208635e-01 2.51980262e-01 6.29505042e-01 1.85199907e-01\n",
            " 1.06937385e-01 5.19403162e-01 3.96046791e-01 3.40398709e-01\n",
            " 8.25573555e-01 2.72051835e-01 7.96416733e-01 8.53140939e-01\n",
            " 5.43354327e-01 9.46329530e-02 9.78374807e-01 8.76885616e-01\n",
            " 7.21311283e-01 7.27309746e-01 3.04559314e-01 2.82036260e-04\n",
            " 6.52907766e-01 8.20259893e-01 2.69270292e-01 5.84903021e-01\n",
            " 3.29770499e-01 5.36307538e-01 8.18223428e-01 9.61189868e-01\n",
            " 6.30968876e-01 6.22563005e-01 8.36955277e-01 7.07428714e-01\n",
            " 3.63953059e-01 4.38466069e-01 4.51611775e-01 3.60872852e-01\n",
            " 8.74175789e-02 4.06696415e-01 1.32636734e-01 2.30237714e-01\n",
            " 8.68397322e-01 1.24757671e-01 6.19095428e-01 8.93024559e-01\n",
            " 6.37200777e-01 2.49393151e-03 5.72405372e-01 6.47526033e-01\n",
            " 3.19624515e-01 3.65894306e-02 7.49943638e-01 7.27456547e-01\n",
            " 9.40300356e-01 8.72390951e-03 8.44758089e-01 2.45642038e-01\n",
            " 7.23600758e-02 7.10006831e-01 4.52910852e-01 9.72656908e-01\n",
            " 9.00432530e-01 1.81736745e-03 8.99019404e-01 6.49699438e-01\n",
            " 4.76738733e-01 6.42060735e-01 8.84458899e-01 8.10840149e-02\n",
            " 3.36353971e-01 6.01992059e-01 7.20528218e-03 4.52002206e-02\n",
            " 5.98870037e-02 9.32436037e-01 5.03782049e-02 9.95271124e-01\n",
            " 5.69492068e-01 9.54768716e-01 1.21528996e-01 6.14849230e-01\n",
            " 8.31515850e-01 5.72581100e-01 8.73111344e-01 2.62842985e-02\n",
            " 6.72150833e-01 3.38180127e-01 6.67465354e-01 6.44165606e-01\n",
            " 6.33988835e-02 3.82088142e-01 2.84246468e-01 5.03023962e-01\n",
            " 4.57993319e-01 2.21849756e-01 8.58318142e-01 2.88644981e-01\n",
            " 1.74143647e-01 6.53375369e-01 7.45511775e-01 6.80692962e-01\n",
            " 8.61166823e-01 1.45060406e-02 3.03744579e-01 3.40637293e-02\n",
            " 6.26877470e-02 1.14252644e-01 9.08624574e-01 6.16981464e-02\n",
            " 3.96830841e-01 9.37767503e-01 2.38857700e-01 7.42669468e-01\n",
            " 2.95153185e-03 2.44808271e-01 5.44845508e-01 9.59252600e-01\n",
            " 9.64124281e-02 4.85228573e-02 4.70427158e-01 3.70119839e-01\n",
            " 1.72105154e-01 2.06943989e-01 5.11837969e-01 1.99066368e-01\n",
            " 7.95474076e-01 9.69676048e-01 4.50780394e-01 5.60780296e-01\n",
            " 3.74314390e-01 8.05756071e-01 9.18720884e-01 2.35037405e-01\n",
            " 9.27634422e-01 5.35370086e-01 5.05435311e-01 1.13329688e-01\n",
            " 9.01520344e-01 1.47831787e-01 5.06935924e-01 7.81056758e-01\n",
            " 1.04793213e-01 6.46371179e-01 9.50615091e-01 2.04627049e-01\n",
            " 6.24161423e-01 1.38140110e-01 9.15020750e-01 1.70239236e-01\n",
            " 2.56272789e-01 4.85830011e-01 8.04051826e-01 2.93567142e-02\n",
            " 8.13562942e-01 4.23724573e-01 5.64110788e-01 1.82878912e-01\n",
            " 8.68127935e-01 1.21873807e-02 9.94001059e-01 7.07448961e-01\n",
            " 7.02631995e-01 8.14315010e-01 5.12013192e-01 9.07190412e-01\n",
            " 7.36547386e-01 5.96675879e-01 2.65730755e-01 2.04667348e-01\n",
            " 8.19425503e-01 6.96996321e-01 5.84806304e-01 2.08378175e-01\n",
            " 6.96309710e-01 7.78606556e-02 1.05852554e-01 1.83718222e-01\n",
            " 1.61121337e-01 9.86138975e-01 7.80232102e-01 2.81171287e-01\n",
            " 2.93305170e-01 4.28099738e-02 3.07002428e-01 6.47008963e-01\n",
            " 5.65932775e-01 9.58551827e-01 2.91014376e-01 6.90875778e-01\n",
            " 3.12637056e-01 1.16429865e-02 5.65669507e-01 6.16224245e-01\n",
            " 2.24504746e-02 2.68613972e-01 1.66293364e-01 5.28266951e-01\n",
            " 5.72116073e-01 6.93644941e-01 2.15923496e-01 2.48316058e-02\n",
            " 3.47068784e-01 9.93973879e-01 5.68164075e-01 5.86510383e-03\n",
            " 7.33229532e-01 6.82457643e-01 6.07551609e-01 4.65237443e-02\n",
            " 4.70027089e-01 7.29625588e-01 4.00539303e-01 3.49603881e-01\n",
            " 9.55295035e-01 8.07433709e-01 7.17040702e-01 5.19784422e-01\n",
            " 2.33802008e-02 2.38822348e-01 3.26633050e-01 8.54627665e-01\n",
            " 9.78424934e-01 2.67325911e-01 2.46993201e-01 6.05309798e-03\n",
            " 7.61243574e-01 2.56162587e-01 4.68392897e-01 8.03305311e-01\n",
            " 8.64000387e-02 1.93570635e-01 7.62194304e-01 7.50008583e-01\n",
            " 3.34229420e-01 2.07494438e-01 9.25960763e-01 7.61245262e-02\n",
            " 2.00344753e-01 3.61096123e-01 8.00076615e-01 5.34161834e-01\n",
            " 2.51346502e-01 4.30244220e-01 3.68379314e-01 3.35650026e-01\n",
            " 6.58546108e-01 9.70360316e-01 5.83419199e-01 8.86615253e-02\n",
            " 8.36817372e-02 6.76373237e-01 1.27070706e-01 1.74984964e-01\n",
            " 9.26957508e-02 6.65674611e-01 3.60265775e-01 3.81833979e-01\n",
            " 6.68175031e-01 5.72067788e-01 8.48334974e-02 5.17750867e-01\n",
            " 2.55713260e-01 3.81796455e-01 4.49415464e-01 7.30225390e-01\n",
            " 2.36759121e-01 6.66760537e-01 4.91060278e-01 8.45833444e-01\n",
            " 7.59231460e-01 3.70913383e-01 5.34264290e-01 1.62168250e-01\n",
            " 3.84530175e-01 8.75108480e-01 4.33169948e-01 1.19152501e-01\n",
            " 3.76634690e-01 8.93940786e-02 6.11378082e-01 1.89959893e-01\n",
            " 5.37279943e-01 5.28592071e-01 7.46670569e-01 9.13797748e-02\n",
            " 3.96005708e-01 1.13771568e-01 9.78845337e-02 5.28424473e-01\n",
            " 4.07833175e-01 6.40441135e-01 5.74502824e-01 9.81934081e-01\n",
            " 6.01266897e-01 8.38291993e-02 1.39945742e-01 1.16563520e-01\n",
            " 7.45842205e-01 4.39426506e-01 4.26506749e-01 6.07901224e-01\n",
            " 4.18388677e-01 2.80259688e-01 1.06575714e-01 9.57092396e-01\n",
            " 3.07832930e-01 1.92656836e-01 9.61859398e-01 8.71527410e-01\n",
            " 6.91360441e-01 3.95969834e-01 4.82961820e-01 9.62887570e-01\n",
            " 6.36694870e-01 2.21582364e-01 8.39382514e-01 3.15525257e-01\n",
            " 3.88924430e-01 6.67522429e-01 5.77824933e-01 2.98621327e-02\n",
            " 3.79830588e-01 1.68146247e-01 5.30041384e-01 6.70647482e-01\n",
            " 1.50510804e-01 2.80152442e-01 8.82460780e-01 8.70226965e-01\n",
            " 8.15869253e-01 3.75864342e-02 7.15346771e-01 2.15645060e-01\n",
            " 6.34466130e-01 6.90013219e-01 8.65620198e-01 6.08722067e-01\n",
            " 9.56361390e-01 8.49874186e-01 9.36352696e-01 6.15961438e-03\n",
            " 1.21424212e-01 3.57841604e-02 6.46339770e-01 9.84131844e-01\n",
            " 1.07819627e-01 3.61173501e-01 7.66484533e-01 1.53551572e-01\n",
            " 1.66758986e-01 3.34070990e-01 7.49900532e-01 1.23047767e-01\n",
            " 8.20282749e-01 9.05243343e-01 6.59501587e-01 5.59636695e-01\n",
            " 6.26043073e-01 7.69796292e-01 6.28916327e-01 2.35851409e-01\n",
            " 6.49947081e-01 2.39950244e-01 9.99881922e-01 4.16058496e-01\n",
            " 9.89578490e-01 5.84086381e-01 2.62208114e-02 1.90019021e-02]\n"
          ],
          "name": "stderr"
        },
        {
          "output_type": "stream",
          "text": [
            "784\n"
          ],
          "name": "stdout"
        }
      ]
    }
  ]
}